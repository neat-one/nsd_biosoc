{
 "cells": [
  {
   "cell_type": "markdown",
   "id": "1c54b864-fe20-4a94-af41-05b19cb36602",
   "metadata": {},
   "source": [
    "Use case: \n",
    "\n",
    "You are trying to push a NEW file (example.py) to the git repo that didn't previously exist. \n",
    "\n",
    "You have already added example.py to the staging area (git add example.py) and committed (git commit -m \"created example.py). \n",
    "\n",
    "When trying to push the commit to the git repo (git push) you receive an error because OOPS you totally forgot to pull the current version of the repo before pushing. So many other inconsistencies between your local branch and the remote git repo are present. "
   ]
  },
  {
   "cell_type": "markdown",
   "id": "7ac6ff8a-aeaf-4c69-9ef2-d3b0779e0fc2",
   "metadata": {},
   "source": [
    "How to resolve issue: "
   ]
  },
  {
   "cell_type": "code",
   "execution_count": null,
   "id": "90bab88c-0815-411f-9b1a-183f911dde3f",
   "metadata": {},
   "outputs": [],
   "source": [
    "#STEP 1 (not totally sure this is necessary) \n",
    "#amend your previous git commit\n",
    "git commit --amend\n",
    "    #this will open your previous commit in vim. Press \"i\" to enter insert mode and delete what you don't want. \n",
    "    #to exit, press \"esc\" to exit insert mode. Then type :wq! to write the file and quit "
   ]
  },
  {
   "cell_type": "code",
   "execution_count": null,
   "id": "2ad9b996-97cc-4782-9aa6-ea9fc66dc250",
   "metadata": {},
   "outputs": [],
   "source": [
    "#STEP 2\n",
    "#remove example.py from staging area \n",
    "git reset --soft HEAD~1 #go back to before your last commit \n",
    "git restore --staged example.py #take example.py out of the staging area \n",
    "git status #use this if you want to see that example.py should now not yet be committed "
   ]
  },
  {
   "cell_type": "code",
   "execution_count": null,
   "id": "063c3912-1cf8-46f6-81d6-c74d9777d8e3",
   "metadata": {},
   "outputs": [],
   "source": [
    "#STEP 3 \n",
    "#pull current version of remote git repo \n",
    "git pull"
   ]
  },
  {
   "cell_type": "code",
   "execution_count": null,
   "id": "010c3e0d-d374-47c3-9c59-ef00ab5159d5",
   "metadata": {},
   "outputs": [],
   "source": [
    "#STEP 4 \n",
    "#NOW you can stage and commit your new file and push to the remote git repo \n",
    "git add example.py \n",
    "git commit -m \"created example.py\" \n",
    "git push "
   ]
  }
 ],
 "metadata": {
  "kernelspec": {
   "display_name": "Python 3 (ipykernel)",
   "language": "python",
   "name": "python3"
  },
  "language_info": {
   "codemirror_mode": {
    "name": "ipython",
    "version": 3
   },
   "file_extension": ".py",
   "mimetype": "text/x-python",
   "name": "python",
   "nbconvert_exporter": "python",
   "pygments_lexer": "ipython3",
   "version": "3.7.12"
  }
 },
 "nbformat": 4,
 "nbformat_minor": 5
}
