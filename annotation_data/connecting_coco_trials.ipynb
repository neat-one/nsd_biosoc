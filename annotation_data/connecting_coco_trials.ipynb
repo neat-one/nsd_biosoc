{
 "cells": [
  {
   "cell_type": "code",
   "execution_count": 1,
   "id": "ed86cc52-7e99-41cc-bbcc-890620092e4b",
   "metadata": {},
   "outputs": [],
   "source": [
    "import pandas as pd"
   ]
  },
  {
   "cell_type": "code",
   "execution_count": 2,
   "id": "d497c48b-d6b9-439b-85fa-3ddf93353fff",
   "metadata": {},
   "outputs": [],
   "source": [
    "pd.set_option('display.max_columns', None)\n",
    "pd.set_option('display.max_rows', None)"
   ]
  },
  {
   "cell_type": "code",
   "execution_count": 3,
   "id": "c1fe3d49-5e7c-4138-bbba-8167d7e027e1",
   "metadata": {},
   "outputs": [],
   "source": [
    "annotation_df = pd.read_csv('coco_annotations_socnosoc.csv')"
   ]
  },
  {
   "cell_type": "code",
   "execution_count": 4,
   "id": "fa361380-ce0a-4a5c-9adf-acdfdc8e8bff",
   "metadata": {},
   "outputs": [],
   "source": [
    "nsd_stim_df = pd.read_csv('nsd_stim_info_merged.csv')"
   ]
  },
  {
   "cell_type": "code",
   "execution_count": 5,
   "id": "e36d225b-e1e4-43be-b3a5-a5eabf5e7d8c",
   "metadata": {},
   "outputs": [],
   "source": [
    "#Will need to add in all participant files here:\n",
    "behav_files = ['../../../shared/NSD/nsddata/ppdata/subj01/behav/responses.tsv',\n",
    "              '../../../shared/NSD/nsddata/ppdata/subj02/behav/responses.tsv',\n",
    "              '../../../shared/NSD/nsddata/ppdata/subj03/behav/responses.tsv',\n",
    "              '../../../shared/NSD/nsddata/ppdata/subj04/behav/responses.tsv',\n",
    "              '../../../shared/NSD/nsddata/ppdata/subj05/behav/responses.tsv',\n",
    "              '../../../shared/NSD/nsddata/ppdata/subj06/behav/responses.tsv',\n",
    "              '../../../shared/NSD/nsddata/ppdata/subj07/behav/responses.tsv',\n",
    "              '../../../shared/NSD/nsddata/ppdata/subj08/behav/responses.tsv',\n",
    "              ]\n",
    "first_file = True\n",
    "for sub_tsv in behav_files:\n",
    "    # curr_df = pd.read_csv(sub_tsv, sep='\\t')\n",
    "    # print(len(curr_df))\n",
    "    # print(curr_df['SESSION'].nunique())\n",
    "    if first_file != True:\n",
    "        add_df = pd.read_csv(sub_tsv, sep='\\t')\n",
    "        behavioral_info_df = pd.concat([behavioral_info_df, add_df])\n",
    "    else:\n",
    "        behavioral_info_df = pd.read_csv(sub_tsv, sep='\\t')\n",
    "        first_file = False"
   ]
  },
  {
   "cell_type": "code",
   "execution_count": 6,
   "id": "1d977b82-6780-4a56-a762-716e0bcfd718",
   "metadata": {},
   "outputs": [
    {
     "data": {
      "text/plain": [
       "213000"
      ]
     },
     "execution_count": 6,
     "metadata": {},
     "output_type": "execute_result"
    }
   ],
   "source": [
    "len(behavioral_info_df)"
   ]
  },
  {
   "cell_type": "code",
   "execution_count": 7,
   "id": "4a66ce5e-d3a0-4228-a123-0d1a3d49f05c",
   "metadata": {},
   "outputs": [],
   "source": [
    "behavioral_info_df['73KID_0idx'] = behavioral_info_df['73KID'] - 1"
   ]
  },
  {
   "cell_type": "code",
   "execution_count": 8,
   "id": "0970d4d8-253e-41bb-8233-e2bf717c7813",
   "metadata": {},
   "outputs": [],
   "source": [
    "nsd_ann_total = nsd_stim_df.merge(annotation_df, how='left', left_on='cocoId', right_on='id')\n",
    "nsd_ann_total.drop('id', axis=1, inplace=True)"
   ]
  },
  {
   "cell_type": "code",
   "execution_count": 9,
   "id": "5f52d828-2684-44f3-bc8b-060d6a32e964",
   "metadata": {},
   "outputs": [],
   "source": [
    "behavioral_info_df['trial_in_session'] = behavioral_info_df.groupby(['SESSION']).cumcount()"
   ]
  },
  {
   "cell_type": "code",
   "execution_count": 10,
   "id": "05d6a0ab-3896-47fa-823c-0c86f5528ecf",
   "metadata": {},
   "outputs": [],
   "source": [
    "behav_ann_comb_df = behavioral_info_df.merge(nsd_ann_total, \n",
    "                    how='left', \n",
    "                    left_on='73KID_0idx',\n",
    "                    right_on='nsdId')[['SUBJECT', 'SESSION', 'RUN', 'TRIAL', \n",
    "                                       'trial_in_session', 'cocoId', 'nsdId', \n",
    "                                       'flagged', 'BOLD5000', 'shared1000', 'file_name', \n",
    "                                       'coco_url','people_coco', 'people', 'faces',\n",
    "                                       '73KID', '10KID', 'TIME', 'ISOLD', 'ISCORRECT', \n",
    "                                       'RT', 'CHANGEMIND', 'MEMORYRECENT', 'MEMORYFIRST',\n",
    "                                       'ISOLDCURRENT', 'ISCORRECTCURRENT', 'TOTAL1', \n",
    "                                       'TOTAL2', 'BUTTON', 'MISSINGDATA', '73KID_0idx']]"
   ]
  },
  {
   "cell_type": "code",
   "execution_count": 11,
   "id": "2e2497f6-dd68-4be2-aeb7-3fec1992e30a",
   "metadata": {},
   "outputs": [],
   "source": [
    "behav_ann_comb_df.to_csv('annotations_behavioral_combined.csv')"
   ]
  }
 ],
 "metadata": {
  "kernelspec": {
   "display_name": "Python 3 (ipykernel)",
   "language": "python",
   "name": "python3"
  },
  "language_info": {
   "codemirror_mode": {
    "name": "ipython",
    "version": 3
   },
   "file_extension": ".py",
   "mimetype": "text/x-python",
   "name": "python",
   "nbconvert_exporter": "python",
   "pygments_lexer": "ipython3",
   "version": "3.7.12"
  }
 },
 "nbformat": 4,
 "nbformat_minor": 5
}
