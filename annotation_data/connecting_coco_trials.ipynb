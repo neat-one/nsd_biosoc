{
 "cells": [
  {
   "cell_type": "code",
   "execution_count": 1,
   "id": "ed86cc52-7e99-41cc-bbcc-890620092e4b",
   "metadata": {},
   "outputs": [],
   "source": [
    "import pandas as pd"
   ]
  },
  {
   "cell_type": "code",
   "execution_count": 2,
   "id": "d497c48b-d6b9-439b-85fa-3ddf93353fff",
   "metadata": {},
   "outputs": [],
   "source": [
    "pd.set_option('display.max_columns', None)\n",
    "pd.set_option('display.max_rows', None)"
   ]
  },
  {
   "cell_type": "code",
   "execution_count": 3,
   "id": "c1fe3d49-5e7c-4138-bbba-8167d7e027e1",
   "metadata": {},
   "outputs": [],
   "source": [
    "annotation_df = pd.read_csv('coco_annotations_socnosoc.csv')"
   ]
  },
  {
   "cell_type": "code",
   "execution_count": 4,
   "id": "fa361380-ce0a-4a5c-9adf-acdfdc8e8bff",
   "metadata": {},
   "outputs": [],
   "source": [
    "nsd_stim_df = pd.read_csv('nsd_stim_info_merged.csv')"
   ]
  },
  {
   "cell_type": "code",
   "execution_count": 5,
   "id": "e36d225b-e1e4-43be-b3a5-a5eabf5e7d8c",
   "metadata": {},
   "outputs": [],
   "source": [
    "#Will need to add in all participant files here:\n",
    "behav_files = ['../../../shared/NSD/nsddata/ppdata/subj01/behav/responses.tsv',\n",
    "              '../../../shared/NSD/nsddata/ppdata/subj02/behav/responses.tsv',\n",
    "              '../../../shared/NSD/nsddata/ppdata/subj03/behav/responses.tsv',\n",
    "              '../../../shared/NSD/nsddata/ppdata/subj04/behav/responses.tsv',\n",
    "              '../../../shared/NSD/nsddata/ppdata/subj05/behav/responses.tsv',\n",
    "              '../../../shared/NSD/nsddata/ppdata/subj06/behav/responses.tsv',\n",
    "              '../../../shared/NSD/nsddata/ppdata/subj07/behav/responses.tsv',\n",
    "              '../../../shared/NSD/nsddata/ppdata/subj08/behav/responses.tsv',\n",
    "              ]\n",
    "first_file = True\n",
    "for sub_tsv in behav_files:\n",
    "    # curr_df = pd.read_csv(sub_tsv, sep='\\t')\n",
    "    # print(len(curr_df))\n",
    "    # print(curr_df['SESSION'].nunique())\n",
    "    if first_file != True:\n",
    "        add_df = pd.read_csv(sub_tsv, sep='\\t')\n",
    "        behavioral_info_df = pd.concat([behavioral_info_df, add_df])\n",
    "    else:\n",
    "        behavioral_info_df = pd.read_csv(sub_tsv, sep='\\t')\n",
    "        first_file = False"
   ]
  },
  {
   "cell_type": "code",
   "execution_count": 6,
   "id": "4a66ce5e-d3a0-4228-a123-0d1a3d49f05c",
   "metadata": {},
   "outputs": [],
   "source": [
    "behavioral_info_df['73KID_0idx'] = behavioral_info_df['73KID'] - 1"
   ]
  },
  {
   "cell_type": "code",
   "execution_count": 7,
   "id": "0970d4d8-253e-41bb-8233-e2bf717c7813",
   "metadata": {},
   "outputs": [],
   "source": [
    "nsd_ann_total = nsd_stim_df.merge(annotation_df, how='left', left_on='cocoId', right_on='id')\n",
    "nsd_ann_total.drop('id', axis=1, inplace=True)"
   ]
  },
  {
   "cell_type": "code",
   "execution_count": 8,
   "id": "5f52d828-2684-44f3-bc8b-060d6a32e964",
   "metadata": {},
   "outputs": [],
   "source": [
    "behavioral_info_df['trial_in_session'] = behavioral_info_df.groupby(['SUBJECT', \n",
    "                                                                     'SESSION']).cumcount()"
   ]
  },
  {
   "cell_type": "code",
   "execution_count": 9,
   "id": "05d6a0ab-3896-47fa-823c-0c86f5528ecf",
   "metadata": {},
   "outputs": [],
   "source": [
    "behav_ann_comb_df = behavioral_info_df.merge(nsd_ann_total, \n",
    "                    how='left', \n",
    "                    left_on='73KID_0idx',\n",
    "                    right_on='nsdId')[['SUBJECT', 'SESSION', 'RUN', 'TRIAL', \n",
    "                                       'trial_in_session', 'cocoId', 'nsdId', \n",
    "                                       'flagged', 'BOLD5000', 'shared1000', 'file_name', \n",
    "                                       'coco_url','people_coco', 'people', 'faces', \n",
    "                                       'people_coco_count', 'people_count', 'faces_count',\n",
    "                                       '73KID', '10KID', 'TIME', 'ISOLD', 'ISCORRECT', \n",
    "                                       'RT', 'CHANGEMIND', 'MEMORYRECENT', 'MEMORYFIRST',\n",
    "                                       'ISOLDCURRENT', 'ISCORRECTCURRENT', 'TOTAL1', \n",
    "                                       'TOTAL2', 'BUTTON', 'MISSINGDATA', '73KID_0idx']]"
   ]
  },
  {
   "cell_type": "code",
   "execution_count": 10,
   "id": "ef10b492-90f2-4603-98c2-e8f80a1905f0",
   "metadata": {},
   "outputs": [],
   "source": [
    "hand_ann_df = pd.read_csv('interrater_reliability.csv')[['nsdID', 'Social/Nonsocial']]"
   ]
  },
  {
   "cell_type": "code",
   "execution_count": 11,
   "id": "48d339c4-08ee-480b-8fbc-b0291c762e6d",
   "metadata": {},
   "outputs": [],
   "source": [
    "hand_ann_dict = hand_ann_df.set_index('nsdID').to_dict()['Social/Nonsocial']"
   ]
  },
  {
   "cell_type": "code",
   "execution_count": 12,
   "id": "14e01032-e47a-4f14-ade9-4d3c11af0399",
   "metadata": {},
   "outputs": [],
   "source": [
    "def apply_socnonsoc(nsdid):\n",
    "    if nsdid in hand_ann_dict.keys():\n",
    "        if hand_ann_dict[nsdid] == 'social':\n",
    "            return 1\n",
    "        elif hand_ann_dict[nsdid] == 'nonsocial':\n",
    "            return 0\n",
    "    else:\n",
    "        return float('nan')"
   ]
  },
  {
   "cell_type": "code",
   "execution_count": 13,
   "id": "a6631df1-3c5a-4c96-85e3-432dbffee59a",
   "metadata": {},
   "outputs": [],
   "source": [
    "behav_ann_comb_df['human'] = behav_ann_comb_df['nsdId'].apply(apply_socnonsoc)"
   ]
  },
  {
   "cell_type": "code",
   "execution_count": 14,
   "id": "35e22a06-b6c8-4b9f-a79e-89ada675a5b9",
   "metadata": {
    "tags": []
   },
   "outputs": [],
   "source": [
    "# behav_ann_comb_df[behav_ann_comb_df['shared1000'] == True][['SUBJECT', 'SESSION',\n",
    "#                                                             'RUN', 'trial_in_session'\n",
    "#                                                            ]].to_csv('shared_trial_info.csv')"
   ]
  },
  {
   "cell_type": "code",
   "execution_count": 15,
   "id": "df85e029-d9e8-496b-8448-7719803c2a3a",
   "metadata": {},
   "outputs": [],
   "source": [
    "# behav_ann_comb_df.to_csv('annotations_behavioral_combined.csv')"
   ]
  },
  {
   "cell_type": "code",
   "execution_count": 16,
   "id": "b0934144-d28b-4398-ab96-5038feb9d4dc",
   "metadata": {},
   "outputs": [],
   "source": [
    "behav_ann_comb_df.rename(columns={'people_coco': 'coco', 'people': 'yolo'}, inplace=True)"
   ]
  },
  {
   "cell_type": "code",
   "execution_count": 17,
   "id": "32f4ddea-0c6f-4f01-8618-7c30d6da30a2",
   "metadata": {},
   "outputs": [],
   "source": [
    "ann_df = behav_ann_comb_df[behav_ann_comb_df['shared1000'] == True][['nsdId', 'human', \n",
    "                                                            'coco', 'yolo']]"
   ]
  },
  {
   "cell_type": "code",
   "execution_count": 18,
   "id": "6bcb3902-b72a-4487-9c71-8f597797d520",
   "metadata": {},
   "outputs": [],
   "source": [
    "ann_df = ann_df.drop_duplicates()"
   ]
  },
  {
   "cell_type": "code",
   "execution_count": 19,
   "id": "52166561-2a18-4e04-b53a-3a850f1f4a53",
   "metadata": {},
   "outputs": [],
   "source": [
    "# ann_df.to_csv('annotations.csv')"
   ]
  },
  {
   "cell_type": "code",
   "execution_count": 20,
   "id": "9c619abb-914a-484c-ab5d-55c0a75b64d6",
   "metadata": {},
   "outputs": [],
   "source": [
    "final_ann = pd.read_csv('annotation_decisions.csv').set_index('nsdId')\n",
    "\n",
    "final_ann.rename(columns={'final decision':'final_decision'}, inplace=True)"
   ]
  },
  {
   "cell_type": "code",
   "execution_count": 21,
   "id": "d941a7a4-2e93-4ab5-8473-e2fbd8b14976",
   "metadata": {},
   "outputs": [],
   "source": [
    "final_ann_dict = final_ann[['final_decision']].to_dict()['final_decision']"
   ]
  },
  {
   "cell_type": "code",
   "execution_count": 22,
   "id": "e4974ff5-4a2a-4ec9-bac0-ee2f416dc35f",
   "metadata": {},
   "outputs": [],
   "source": [
    "behav_ann_comb_df['final_socnonsoc'] = behav_ann_comb_df['nsdId'].map(final_ann_dict)"
   ]
  },
  {
   "cell_type": "code",
   "execution_count": 23,
   "id": "38391416-51c3-4650-8e08-e523ae11638c",
   "metadata": {},
   "outputs": [],
   "source": [
    "behav_ann_comb_df.drop( ['human', 'yolo', 'faces', 'coco'], axis=1, inplace=True)"
   ]
  },
  {
   "cell_type": "code",
   "execution_count": 24,
   "id": "99e2812e-22dc-44a3-8556-e6f951d2d68d",
   "metadata": {},
   "outputs": [],
   "source": [
    "df_data = pd.read_csv('../data_processing/betas_sub1_ses1.csv').rename(columns={\n",
    "                                                                    'Trial':'trial_in_session',\n",
    "                                                                    })"
   ]
  },
  {
   "cell_type": "code",
   "execution_count": 25,
   "id": "e42cf750-f7d7-436b-8171-eec6967e3d01",
   "metadata": {},
   "outputs": [],
   "source": [
    "behav_ann_comb_df = behav_ann_comb_df[behav_ann_comb_df['shared1000'] == True]"
   ]
  },
  {
   "cell_type": "code",
   "execution_count": 32,
   "id": "031c7add-3b2e-4735-b809-d08eb7a4c1c1",
   "metadata": {},
   "outputs": [
    {
     "data": {
      "text/plain": [
       "0.0    11972\n",
       "1.0     9130\n",
       "NaN       16\n",
       "Name: final_socnonsoc, dtype: int64"
      ]
     },
     "execution_count": 32,
     "metadata": {},
     "output_type": "execute_result"
    }
   ],
   "source": [
    "behav_ann_comb_df['final_socnonsoc'].value_counts(dropna=False)"
   ]
  },
  {
   "cell_type": "code",
   "execution_count": 35,
   "id": "164c4fec-ae92-49d0-9045-4d080060c160",
   "metadata": {},
   "outputs": [],
   "source": [
    "#Change to not be hard coded if we share this code.\n",
    "# behav_ann_comb_df[behav_ann_comb_df['final_socnonsoc'].isna()]\n",
    "behav_ann_comb_df['final_socnonsoc'] = behav_ann_comb_df['final_socnonsoc'].fillna(0)"
   ]
  },
  {
   "cell_type": "code",
   "execution_count": 36,
   "id": "a93137e7-9d58-443d-bf56-06989eb175c2",
   "metadata": {},
   "outputs": [],
   "source": [
    "behav_ann_comb_df.merge(df_data, \n",
    "                        how='left', \n",
    "                        on='trial_in_session')[['trial_in_session',\n",
    "                                                'final_socnonsoc']].to_csv(\n",
    "                                                                        'sample_input_output.csv'\n",
    "                                                                        )"
   ]
  },
  {
   "cell_type": "code",
   "execution_count": null,
   "id": "d50582c5-9b1b-4d6d-aae3-816364e64c20",
   "metadata": {},
   "outputs": [],
   "source": []
  }
 ],
 "metadata": {
  "kernelspec": {
   "display_name": "Python 3 (ipykernel)",
   "language": "python",
   "name": "python3"
  },
  "language_info": {
   "codemirror_mode": {
    "name": "ipython",
    "version": 3
   },
   "file_extension": ".py",
   "mimetype": "text/x-python",
   "name": "python",
   "nbconvert_exporter": "python",
   "pygments_lexer": "ipython3",
   "version": "3.7.12"
  }
 },
 "nbformat": 4,
 "nbformat_minor": 5
}
