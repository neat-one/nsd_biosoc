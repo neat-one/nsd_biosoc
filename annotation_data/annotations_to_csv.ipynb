{
 "cells": [
  {
   "cell_type": "code",
   "execution_count": 2,
   "id": "b05f07ed-9788-4e8a-8ec9-944eccb38301",
   "metadata": {},
   "outputs": [],
   "source": [
    "#Import packages.\n",
    "import pandas as pd\n",
    "import json"
   ]
  },
  {
   "cell_type": "code",
   "execution_count": 3,
   "id": "6765ac39-2931-427e-a02d-dcfe27feb1cb",
   "metadata": {},
   "outputs": [],
   "source": [
    "def extract_ann(filename, column_name, category_num):\n",
    "    if ((not isinstance(category_num, list)) | (not isinstance(column_name, list))):\n",
    "        print(\"Your category is not a list\")\n",
    "    else:\n",
    "        #Open the faces json.\n",
    "        with open(filename) as json_data:\n",
    "            data = json.load(json_data)\n",
    "        df = pd.DataFrame(data['images'])\n",
    "        ann = pd.DataFrame(data['annotations'])\n",
    "    \n",
    "        for category, name in zip(category_num, column_name):\n",
    "            data_sub = ann[ann['category_id']==category]\n",
    "            \n",
    "            data_counts = data_sub.groupby(['image_id']).count()\n",
    "            data_counts_cat = data_counts[['category_id']]\n",
    "            count_name = f\"{name}_count\"\n",
    "            data_counts_cat = data_counts_cat.rename(columns={\"category_id\": count_name})\n",
    "            \n",
    "            sub_set = set(data_sub['image_id'].to_list())\n",
    "            df[name] = df['id'].isin(sub_set).astype(int)\n",
    "            df = df.merge(data_counts_cat, how='outer', left_on='id', right_index=True)\n",
    "    return df\n",
    "    "
   ]
  },
  {
   "cell_type": "code",
   "execution_count": 6,
   "id": "f55f3148-260d-4dee-ad7c-ed19a377055a",
   "metadata": {},
   "outputs": [
    {
     "ename": "FileNotFoundError",
     "evalue": "[Errno 2] No such file or directory: './cocoface_instances_train2017.json'",
     "output_type": "error",
     "traceback": [
      "\u001b[0;31m---------------------------------------------------------------------------\u001b[0m",
      "\u001b[0;31mFileNotFoundError\u001b[0m                         Traceback (most recent call last)",
      "\u001b[0;32m/tmp/ipykernel_261/943120895.py\u001b[0m in \u001b[0;36m<module>\u001b[0;34m\u001b[0m\n\u001b[0;32m----> 1\u001b[0;31m \u001b[0mdata1\u001b[0m \u001b[0;34m=\u001b[0m \u001b[0mextract_ann\u001b[0m\u001b[0;34m(\u001b[0m\u001b[0;34m\"./cocoface_instances_train2017.json\"\u001b[0m\u001b[0;34m,\u001b[0m \u001b[0;34m[\u001b[0m\u001b[0;34m'people'\u001b[0m\u001b[0;34m,\u001b[0m \u001b[0;34m'faces'\u001b[0m\u001b[0;34m]\u001b[0m\u001b[0;34m,\u001b[0m \u001b[0;34m[\u001b[0m\u001b[0;36m1\u001b[0m\u001b[0;34m,\u001b[0m\u001b[0;36m2\u001b[0m\u001b[0;34m]\u001b[0m\u001b[0;34m)\u001b[0m\u001b[0;34m\u001b[0m\u001b[0;34m\u001b[0m\u001b[0m\n\u001b[0m\u001b[1;32m      2\u001b[0m \u001b[0mdata2\u001b[0m \u001b[0;34m=\u001b[0m \u001b[0mextract_ann\u001b[0m\u001b[0;34m(\u001b[0m\u001b[0;34m\"./instances_train2017.json\"\u001b[0m\u001b[0;34m,\u001b[0m \u001b[0;34m[\u001b[0m\u001b[0;34m'people_coco'\u001b[0m\u001b[0;34m]\u001b[0m\u001b[0;34m,\u001b[0m \u001b[0;34m[\u001b[0m\u001b[0;36m1\u001b[0m\u001b[0;34m]\u001b[0m\u001b[0;34m)\u001b[0m\u001b[0;34m\u001b[0m\u001b[0;34m\u001b[0m\u001b[0m\n\u001b[1;32m      3\u001b[0m \u001b[0mdata3\u001b[0m \u001b[0;34m=\u001b[0m \u001b[0mextract_ann\u001b[0m\u001b[0;34m(\u001b[0m\u001b[0;34m\"./cocoface_instances_val2017.json\"\u001b[0m\u001b[0;34m,\u001b[0m \u001b[0;34m[\u001b[0m\u001b[0;34m'people'\u001b[0m\u001b[0;34m,\u001b[0m\u001b[0;34m'faces'\u001b[0m\u001b[0;34m]\u001b[0m\u001b[0;34m,\u001b[0m \u001b[0;34m[\u001b[0m\u001b[0;36m1\u001b[0m\u001b[0;34m,\u001b[0m\u001b[0;36m2\u001b[0m\u001b[0;34m]\u001b[0m\u001b[0;34m)\u001b[0m\u001b[0;34m\u001b[0m\u001b[0;34m\u001b[0m\u001b[0m\n\u001b[1;32m      4\u001b[0m \u001b[0mdata4\u001b[0m \u001b[0;34m=\u001b[0m \u001b[0mextract_ann\u001b[0m\u001b[0;34m(\u001b[0m\u001b[0;34m\"./instances_val2017.json\"\u001b[0m\u001b[0;34m,\u001b[0m \u001b[0;34m[\u001b[0m\u001b[0;34m'people_coco'\u001b[0m\u001b[0;34m]\u001b[0m\u001b[0;34m,\u001b[0m \u001b[0;34m[\u001b[0m\u001b[0;36m1\u001b[0m\u001b[0;34m]\u001b[0m\u001b[0;34m)\u001b[0m\u001b[0;34m\u001b[0m\u001b[0;34m\u001b[0m\u001b[0m\n",
      "\u001b[0;32m/tmp/ipykernel_261/2012530835.py\u001b[0m in \u001b[0;36mextract_ann\u001b[0;34m(filename, column_name, category_num)\u001b[0m\n\u001b[1;32m      4\u001b[0m     \u001b[0;32melse\u001b[0m\u001b[0;34m:\u001b[0m\u001b[0;34m\u001b[0m\u001b[0;34m\u001b[0m\u001b[0m\n\u001b[1;32m      5\u001b[0m         \u001b[0;31m#Open the faces json.\u001b[0m\u001b[0;34m\u001b[0m\u001b[0;34m\u001b[0m\u001b[0;34m\u001b[0m\u001b[0m\n\u001b[0;32m----> 6\u001b[0;31m         \u001b[0;32mwith\u001b[0m \u001b[0mopen\u001b[0m\u001b[0;34m(\u001b[0m\u001b[0mfilename\u001b[0m\u001b[0;34m)\u001b[0m \u001b[0;32mas\u001b[0m \u001b[0mjson_data\u001b[0m\u001b[0;34m:\u001b[0m\u001b[0;34m\u001b[0m\u001b[0;34m\u001b[0m\u001b[0m\n\u001b[0m\u001b[1;32m      7\u001b[0m             \u001b[0mdata\u001b[0m \u001b[0;34m=\u001b[0m \u001b[0mjson\u001b[0m\u001b[0;34m.\u001b[0m\u001b[0mload\u001b[0m\u001b[0;34m(\u001b[0m\u001b[0mjson_data\u001b[0m\u001b[0;34m)\u001b[0m\u001b[0;34m\u001b[0m\u001b[0;34m\u001b[0m\u001b[0m\n\u001b[1;32m      8\u001b[0m         \u001b[0mdf\u001b[0m \u001b[0;34m=\u001b[0m \u001b[0mpd\u001b[0m\u001b[0;34m.\u001b[0m\u001b[0mDataFrame\u001b[0m\u001b[0;34m(\u001b[0m\u001b[0mdata\u001b[0m\u001b[0;34m[\u001b[0m\u001b[0;34m'images'\u001b[0m\u001b[0;34m]\u001b[0m\u001b[0;34m)\u001b[0m\u001b[0;34m\u001b[0m\u001b[0;34m\u001b[0m\u001b[0m\n",
      "\u001b[0;31mFileNotFoundError\u001b[0m: [Errno 2] No such file or directory: './cocoface_instances_train2017.json'"
     ]
    }
   ],
   "source": [
    "data1 = extract_ann(\"./cocoface_instances_train2017.json\", ['people', 'faces'], [1,2])\n",
    "data2 = extract_ann(\"./instances_train2017.json\", ['people_coco'], [1])\n",
    "data3 = extract_ann(\"./cocoface_instances_val2017.json\", ['people','faces'], [1,2])\n",
    "data4 = extract_ann(\"./instances_val2017.json\", ['people_coco'], [1])"
   ]
  },
  {
   "cell_type": "code",
   "execution_count": 26,
   "id": "673cfdd3-5ae2-4846-b481-fdce9b5be47a",
   "metadata": {},
   "outputs": [],
   "source": [
    "data_faces = pd.concat([data1, data3])\n",
    "data_coco = pd.concat([data2, data4])\n",
    "data_all = data_coco.merge(data_faces, how='outer', on=['id', 'file_name', 'coco_url'])\n",
    "data_all = data_all[['id', 'file_name', 'coco_url', 'people_coco', 'people', 'faces','people_coco_count', 'people_count','faces_count']]\n",
    "\n",
    "#Replace nans with 0s.\n",
    "data_all.fillna(0, inplace=True)"
   ]
  },
  {
   "cell_type": "code",
   "execution_count": 1,
   "id": "7ae7c3f3-4001-468f-b129-54a7a091019b",
   "metadata": {},
   "outputs": [
    {
     "ename": "NameError",
     "evalue": "name 'pd' is not defined",
     "output_type": "error",
     "traceback": [
      "\u001b[0;31m---------------------------------------------------------------------------\u001b[0m",
      "\u001b[0;31mNameError\u001b[0m                                 Traceback (most recent call last)",
      "\u001b[0;32m/tmp/ipykernel_261/2906464555.py\u001b[0m in \u001b[0;36m<module>\u001b[0;34m\u001b[0m\n\u001b[0;32m----> 1\u001b[0;31m \u001b[0minter_rel_df\u001b[0m \u001b[0;34m=\u001b[0m \u001b[0mpd\u001b[0m\u001b[0;34m.\u001b[0m\u001b[0mread_csv\u001b[0m\u001b[0;34m(\u001b[0m\u001b[0;34m'Interrater Reliability.csv'\u001b[0m\u001b[0;34m)\u001b[0m\u001b[0;34m\u001b[0m\u001b[0;34m\u001b[0m\u001b[0m\n\u001b[0m",
      "\u001b[0;31mNameError\u001b[0m: name 'pd' is not defined"
     ]
    }
   ],
   "source": [
    "inter_rel_df = pd.read_csv('Interrater Reliability.csv')"
   ]
  },
  {
   "cell_type": "code",
   "execution_count": 28,
   "id": "14089c28-b3ec-4acb-afa5-699abe115dcd",
   "metadata": {},
   "outputs": [],
   "source": [
    "#Save to csv.\n",
    "data_all.to_csv(\"./coco_annotations_socnosoc.csv\")"
   ]
  }
 ],
 "metadata": {
  "kernelspec": {
   "display_name": "Python 3 (ipykernel)",
   "language": "python",
   "name": "python3"
  },
  "language_info": {
   "codemirror_mode": {
    "name": "ipython",
    "version": 3
   },
   "file_extension": ".py",
   "mimetype": "text/x-python",
   "name": "python",
   "nbconvert_exporter": "python",
   "pygments_lexer": "ipython3",
   "version": "3.7.12"
  }
 },
 "nbformat": 4,
 "nbformat_minor": 5
}
