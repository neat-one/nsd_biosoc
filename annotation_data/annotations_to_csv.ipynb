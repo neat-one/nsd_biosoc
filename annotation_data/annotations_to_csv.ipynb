{
 "cells": [
  {
   "cell_type": "code",
   "execution_count": 1,
   "id": "b05f07ed-9788-4e8a-8ec9-944eccb38301",
   "metadata": {},
   "outputs": [],
   "source": [
    "#Import packages.\n",
    "import pandas as pd\n",
    "import json"
   ]
  },
  {
   "cell_type": "code",
   "execution_count": 2,
   "id": "6765ac39-2931-427e-a02d-dcfe27feb1cb",
   "metadata": {},
   "outputs": [],
   "source": [
    "def extract_ann(filename, column_name, category_num):\n",
    "    if ((not isinstance(category_num, list)) | (not isinstance(column_name, list))):\n",
    "        print(\"Your category is not a list\")\n",
    "    else:\n",
    "        #Open the faces json.\n",
    "        with open(filename) as json_data:\n",
    "            data = json.load(json_data)\n",
    "        df = pd.DataFrame(data['images'])\n",
    "        ann = pd.DataFrame(data['annotations'])\n",
    "    \n",
    "        for category, name in zip(category_num, column_name):\n",
    "            data_sub = ann[ann['category_id']==category]\n",
    "            sub_set = set(data_sub['image_id'].to_list())\n",
    "            df[name] = df['id'].isin(sub_set).astype(int)\n",
    "    return df\n",
    "    "
   ]
  },
  {
   "cell_type": "code",
   "execution_count": 11,
   "id": "f55f3148-260d-4dee-ad7c-ed19a377055a",
   "metadata": {},
   "outputs": [],
   "source": [
    "data1 = extract_ann(\"./cocoface_instances_train2017.json\", ['people', 'faces'], [1,2])\n",
    "data2 = extract_ann(\"./instances_train2017.json\", ['people_coco'], [1])\n",
    "data3 = extract_ann(\"./cocoface_instances_val2017.json\", ['people','faces'], [1,2])\n",
    "data4 = extract_ann(\"./instances_val2017.json\", ['people_coco'], [1])"
   ]
  },
  {
   "cell_type": "code",
   "execution_count": 14,
   "id": "673cfdd3-5ae2-4846-b481-fdce9b5be47a",
   "metadata": {},
   "outputs": [],
   "source": [
    "data_faces = pd.concat([data1, data3])\n",
    "data_coco = pd.concat([data2, data4])\n",
    "data_all = data_coco.merge(data_faces, how='outer', on=['id', 'file_name', 'coco_url'])\n",
    "data_all = data_all[['id', 'file_name', 'coco_url', 'people_coco', 'people', 'faces']]\n",
    "\n",
    "#Replace nans with 0s.\n",
    "data_all.fillna(0, inplace=True)"
   ]
  },
  {
   "cell_type": "code",
   "execution_count": 16,
   "id": "14089c28-b3ec-4acb-afa5-699abe115dcd",
   "metadata": {},
   "outputs": [],
   "source": [
    "#Save to csv.\n",
    "data_all.to_csv(\"./coco_annotations_socnosoc.csv\")"
   ]
  }
 ],
 "metadata": {
  "kernelspec": {
   "display_name": "Python 3 (ipykernel)",
   "language": "python",
   "name": "python3"
  },
  "language_info": {
   "codemirror_mode": {
    "name": "ipython",
    "version": 3
   },
   "file_extension": ".py",
   "mimetype": "text/x-python",
   "name": "python",
   "nbconvert_exporter": "python",
   "pygments_lexer": "ipython3",
   "version": "3.7.12"
  }
 },
 "nbformat": 4,
 "nbformat_minor": 5
}
