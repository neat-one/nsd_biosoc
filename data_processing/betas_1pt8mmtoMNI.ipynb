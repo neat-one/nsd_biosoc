{
 "cells": [
  {
   "cell_type": "code",
   "execution_count": 2,
   "id": "8c261b95-2c87-493d-8d0f-34daaf9871e1",
   "metadata": {},
   "outputs": [],
   "source": [
    "import os\n",
    "import numpy as np\n",
    "import nibabel as nib\n",
    "import matplotlib.pyplot as plt\n",
    "from nsdcode.nsd_mapdata import NSDmapdata\n",
    "from nsdcode.nsd_datalocation import nsd_datalocation\n",
    "from nsdcode.nsd_output import nsd_write_fs\n",
    "from nsdcode.utils import makeimagestack"
   ]
  },
  {
   "cell_type": "code",
   "execution_count": null,
   "id": "a32635ae-7e82-426e-899f-d13f4e8aefa4",
   "metadata": {},
   "outputs": [],
   "source": [
    "#Convert betas to MNI space\n",
    "\n",
    "# For comparison, we repeat the same operation but for the low-resolution\n",
    "# 1.8-mm functional preparation.\n",
    "sourcedata = f'{nsd_betas}/ppdata/subj{subjix:02d}/func1pt8mm/betas_fithrf_GLMdenoise_RR/R2_session01.nii.gz' #change this to our reduced image\n",
    "sourcespace = 'func1pt8'\n",
    "targetspace = 'MNI'\n",
    "interpmethod = 'cubic'\n",
    "nsd.fit(\n",
    "    subjix,\n",
    "    sourcespace,\n",
    "    targetspace,\n",
    "    sourcedata,\n",
    "    interptype=interpmethod,\n",
    "    badval=0,\n",
    "    outputfile=f'test-{sourcespace}-{targetspace}-{interpmethod}.nii.gz')\n"
   ]
  }
 ],
 "metadata": {
  "kernelspec": {
   "display_name": "Python 3 (ipykernel)",
   "language": "python",
   "name": "python3"
  },
  "language_info": {
   "codemirror_mode": {
    "name": "ipython",
    "version": 3
   },
   "file_extension": ".py",
   "mimetype": "text/x-python",
   "name": "python",
   "nbconvert_exporter": "python",
   "pygments_lexer": "ipython3",
   "version": "3.7.12"
  }
 },
 "nbformat": 4,
 "nbformat_minor": 5
}
