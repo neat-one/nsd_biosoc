{
 "cells": [
  {
   "cell_type": "code",
   "execution_count": 19,
   "id": "cc71ccfc-59e7-439c-935e-addf79c8806a",
   "metadata": {},
   "outputs": [],
   "source": [
    "import s3fs\n",
    "import nibabel as nib\n",
    "import nibabel.processing\n",
    "import pandas as pd \n",
    "import matplotlib.pyplot as plt \n",
    "from skimage.transform import rescale\n",
    "from skimage.filters import gaussian\n",
    "from nilearn import plotting \n",
    "import numpy as np"
   ]
  },
  {
   "cell_type": "code",
   "execution_count": 20,
   "id": "09fc93d0-9ec5-4cd0-94a9-23ece4ff77bc",
   "metadata": {},
   "outputs": [],
   "source": [
    "fs = s3fs.S3FileSystem(anon=True)"
   ]
  },
  {
   "cell_type": "code",
   "execution_count": 14,
   "id": "73e6ebcd-ca0b-423e-8130-8b4429ee0ec6",
   "metadata": {},
   "outputs": [],
   "source": [
    "#ll = fs.ls('natural-scenes-dataset/nsddata_betas/ppdata/subj01/MNI/betas_fithrf/betas_session0.nii.gz')\n",
    "mask = fs.ls('natural-scenes-dataset/nsddata/ppdata/subj01/func1pt8mm/brainmask.nii.gz')"
   ]
  },
  {
   "cell_type": "code",
   "execution_count": null,
   "id": "d600948c-dec1-40aa-b5b9-84221e207efa",
   "metadata": {},
   "outputs": [],
   "source": [
    "#ll"
   ]
  },
  {
   "cell_type": "code",
   "execution_count": 21,
   "id": "cf7629d0-9097-4d2a-98a2-a547a6a35826",
   "metadata": {},
   "outputs": [],
   "source": [
    "\n",
    "#for fname in ll: \n",
    "    #fs.get(fname, \"tmp.nii.gz\")\n",
    "    #img = nib.load(\"tmp.nii.gz\")\n",
    "\n",
    "    # XXX do something with one file\n",
    "#fs.get(ll[0], \"tmp.nii.gz\")\n",
    "#fs.get(mask[0], \"brainmask.nii.gz\")\n",
    "img = nib.load(\"tmp.nii.gz\")\n",
    "#img_data = img.get_fdata()\n",
    "beta_trial = img.slicer[:,:,:,1].get_fdata()/300 #get trial 1\n",
    "\n",
    "#brainmask_img = nib.load(\"brainmask.nii.gz\")\n",
    "#brainmask = brainmask_img.get_fdata()\n",
    "#header = img.header\n",
    "\n",
    "#smooth\n",
    "img_smoothed = gaussian(beta_trial, sigma=4)\n",
    "\n",
    "#downsample \n",
    "#down_img = nibabel.processing.resample_to_output(img_data, voxel_sizes=(3,3,3))\n",
    "img_rescaled = rescale(img_smoothed, 0.25, anti_aliasing=False)\n",
    "\n",
    "#sigma = 8 #the higher the smoother, will smooth less when we have time, for now at 8 for neurohack presentation timeline \n",
    "#fhwm = nibabel.processing.sigma2fwhm(sigma) \n",
    "#smoothed_img = nibabel.processing.smooth_image(down_img, fhwm) \n",
    "\n",
    "#affine nibabel documentation \n",
    "\n",
    "    # Append into total results:\n",
    "    # results.append(XXX)"
   ]
  },
  {
   "cell_type": "code",
   "execution_count": null,
   "id": "860c7b1c-319a-478a-a4a1-5070f3860590",
   "metadata": {},
   "outputs": [],
   "source": [
    "trials_info = pd.read_csv('../annotation_data/shared_trial_info.csv')\n",
    "trials_sub1 = trials_info[((trials_info.SUBJECT == 1))]\n",
    "trials_sub1.head()\n",
    "len(trials_sub1)"
   ]
  },
  {
   "cell_type": "code",
   "execution_count": null,
   "id": "8a87bc6a-ee6d-4292-b72a-a6c0123eebd5",
   "metadata": {},
   "outputs": [],
   "source": [
    "# 1.8 mm space functional data\n",
    "# subj 1, session 1 \n",
    "#trials = trials_sub1['trial_in_session'].tolist()\n",
    "sessions = [1] #For veronica testing\n",
    "#sessions = trials_sub1.SESSION.unique() #to loop over all sessions\n",
    "\n",
    "#beta_trials = []\n",
    "#np.asarray(beta_trials)\n",
    "for session in sessions:\n",
    "    if (session < 10):\n",
    "        ll = fs.ls(f'natural-scenes-dataset/nsddata_betas/ppdata/subj01/MNI/betas_fithrf/betas_session0{session}.nii.gz')\n",
    "    else: \n",
    "        ll = fs.ls(f'natural-scenes-dataset/nsddata_betas/ppdata/subj01/MNI/betas_fithrf/betas_session{session}.nii.gz')\n",
    "    fs.get(ll[0], \"tmp.nii.gz\")   \n",
    "    img = nib.load(\"tmp.nii.gz\")\n",
    "    trials_sub_ses = trials_sub1[(trials_sub1.SESSION == session)]\n",
    "    \n",
    "    #smooth \n",
    "    sigma = 8 #the higher the smoother, will smooth less when we have time, for now at 8 for neurohack presentation timeline \n",
    "    fhwm = nib.processing.sigma2fwhm(sigma) \n",
    "    smoothed_img = nib.processing.smooth_image(img, fhwm) \n",
    "    \n",
    "    #downsample \n",
    "    nib.processing.resample_to_output(smoothed_img, voxel_sizes=(6,6,6),  \n",
    "    \n",
    "    #beta_trials = pd.DataFrame(columns = [\"Betas\", \"Trial\", \"Session\"])\n",
    "    \n",
    "    \n",
    "    for count, t in enumerate(trials_sub_ses['trial_in_session'].tolist()):\n",
    "        beta_trial = img.slicer[:,:,:,t].get_fdata()/300 #get trial 1\n",
    "        #beta_trials = np.expand_dims(beta_trial,axis=3)\n",
    "        \n",
    "\n",
    "        #flatten \n",
    "        \n",
    "        \n",
    "        #add on trial and ses number \n",
    "        \n",
    "        beta_trials.at[count,'Betas'] = beta_trial\n",
    "        beta_trials.at[count,'Trial'] = t\n",
    "    \n",
    "    beta_trials[\"Session\"] = session\n",
    "    \n",
    "    #save to csv \n",
    "    if (session == 1):\n",
    "        beta_trials.to_csv('betas_sub1.csv', index=False)\n",
    "    else:\n",
    "        beta_trials.to_csv('betas_sub1.csv', index=False, mode=\"a\")\n",
    "            #beta_trial = beta_trial[:,:,:,np.newaxis]\n",
    "            #beta_trial = beta_trial[:,:,:,t]\n",
    "            #beta_trials = np.append(beta_trials, beta_trial,axis=3)\n",
    "    "
   ]
  },
  {
   "cell_type": "code",
   "execution_count": null,
   "id": "e973442c-7a0f-4d70-b63e-c6b94d3a16f8",
   "metadata": {},
   "outputs": [],
   "source": [
    "print(\"session 1 beta, data shape:\", beta_trials.shape)"
   ]
  },
  {
   "cell_type": "code",
   "execution_count": null,
   "id": "a389e9dc-25ab-48f1-982f-317a1d6be38e",
   "metadata": {},
   "outputs": [],
   "source": [
    "#beta_trials.to_csv('betas_sub1_ses1.csv', index=False)"
   ]
  },
  {
   "cell_type": "code",
   "execution_count": 22,
   "id": "8accd8f8-e72f-48ed-8b0d-d3381e4e1301",
   "metadata": {},
   "outputs": [
    {
     "data": {
      "text/plain": [
       "<nilearn.plotting.displays._slicers.OrthoSlicer at 0x7f4cccd27710>"
      ]
     },
     "execution_count": 22,
     "metadata": {},
     "output_type": "execute_result"
    },
    {
     "data": {
      "image/png": "[encoded data removed]",
      "text/plain": [
       "<Figure size 525.6x187.2 with 4 Axes>"
      ]
     },
     "metadata": {},
     "output_type": "display_data"
    }
   ],
   "source": [
    "# overlay beta map with brain mask\n",
    "plotting.plot_stat_map(nib.Nifti1Image(img_rescaled, img.affine), # this function needs a 3D data file\n",
    "                       #bg_img=nib.Nifti1Image(brainmask, brainmask_img.affine), # load the brain mask as a background picture\n",
    "                       cut_coords=(0, 0, 0), #use to select coordinates that you want to view\n",
    "                       title=\"test\",\n",
    "                       vmax=5)"
   ]
  },
  {
   "cell_type": "code",
   "execution_count": null,
   "id": "36a622f6-91c3-43f0-b4c2-7486201c6e9d",
   "metadata": {},
   "outputs": [],
   "source": []
  }
 ],
 "metadata": {
  "kernelspec": {
   "display_name": "Python 3 (ipykernel)",
   "language": "python",
   "name": "python3"
  },
  "language_info": {
   "codemirror_mode": {
    "name": "ipython",
    "version": 3
   },
   "file_extension": ".py",
   "mimetype": "text/x-python",
   "name": "python",
   "nbconvert_exporter": "python",
   "pygments_lexer": "ipython3",
   "version": "3.7.12"
  }
 },
 "nbformat": 4,
 "nbformat_minor": 5
}
