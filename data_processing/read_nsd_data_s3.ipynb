{
 "cells": [
  {
   "cell_type": "code",
   "execution_count": 1,
   "id": "cc71ccfc-59e7-439c-935e-addf79c8806a",
   "metadata": {},
   "outputs": [],
   "source": [
    "import s3fs\n",
    "import nibabel as nib\n",
    "import pandas as pd \n",
    "import matplotlib.pyplot as plt \n",
    "from nilearn import plotting \n",
    "import numpy as np"
   ]
  },
  {
   "cell_type": "code",
   "execution_count": 2,
   "id": "09fc93d0-9ec5-4cd0-94a9-23ece4ff77bc",
   "metadata": {},
   "outputs": [],
   "source": [
    "fs = s3fs.S3FileSystem(anon=True)"
   ]
  },
  {
   "cell_type": "code",
   "execution_count": 11,
   "id": "73e6ebcd-ca0b-423e-8130-8b4429ee0ec6",
   "metadata": {},
   "outputs": [],
   "source": [
    "ll = fs.ls('natural-scenes-dataset/nsddata_betas/ppdata/subj01/MNI/betas_fithrf/betas_session0.nii.gz')\n",
    "mask = fs.ls('natural-scenes-dataset/nsddata/ppdata/subj01/func1pt8mm/brainmask.nii.gz')"
   ]
  },
  {
   "cell_type": "code",
   "execution_count": 12,
   "id": "d600948c-dec1-40aa-b5b9-84221e207efa",
   "metadata": {},
   "outputs": [
    {
     "data": {
      "text/plain": [
       "[]"
      ]
     },
     "execution_count": 12,
     "metadata": {},
     "output_type": "execute_result"
    }
   ],
   "source": [
    "ll"
   ]
  },
  {
   "cell_type": "code",
   "execution_count": 5,
   "id": "cf7629d0-9097-4d2a-98a2-a547a6a35826",
   "metadata": {},
   "outputs": [],
   "source": [
    "\n",
    "#for fname in ll: \n",
    "    #fs.get(fname, \"tmp.nii.gz\")\n",
    "    #img = nib.load(\"tmp.nii.gz\")\n",
    "\n",
    "    # XXX do something with one file\n",
    "fs.get(ll[0], \"tmp.nii.gz\")\n",
    "fs.get(mask[0], \"brainmask.nii.gz\")\n",
    "img = nib.load(\"tmp.nii.gz\")\n",
    "#brainmask_img = nib.load(\"brainmask.nii.gz\")\n",
    "#brainmask = brainmask_img.get_fdata()\n",
    "#header = img.header\n",
    "\n",
    "    # Append into total results:\n",
    "    # results.append(XXX)"
   ]
  },
  {
   "cell_type": "code",
   "execution_count": 13,
   "id": "860c7b1c-319a-478a-a4a1-5070f3860590",
   "metadata": {},
   "outputs": [
    {
     "data": {
      "text/plain": [
       "3000"
      ]
     },
     "execution_count": 13,
     "metadata": {},
     "output_type": "execute_result"
    }
   ],
   "source": [
    "trials_info = pd.read_csv('../annotation_data/shared_trial_info.csv')\n",
    "trials_sub1 = trials_info[((trials_info.SUBJECT == 1))]\n",
    "trials_sub1.head()\n",
    "len(trials_sub1)"
   ]
  },
  {
   "cell_type": "code",
   "execution_count": 15,
   "id": "8a87bc6a-ee6d-4292-b72a-a6c0123eebd5",
   "metadata": {},
   "outputs": [
    {
     "ename": "KeyboardInterrupt",
     "evalue": "",
     "output_type": "error",
     "traceback": [
      "\u001b[0;31m---------------------------------------------------------------------------\u001b[0m",
      "\u001b[0;31mKeyboardInterrupt\u001b[0m                         Traceback (most recent call last)",
      "\u001b[0;32m/tmp/ipykernel_235/1309364078.py\u001b[0m in \u001b[0;36m<module>\u001b[0;34m\u001b[0m\n\u001b[1;32m     10\u001b[0m     \u001b[0;32melse\u001b[0m\u001b[0;34m:\u001b[0m\u001b[0;34m\u001b[0m\u001b[0;34m\u001b[0m\u001b[0m\n\u001b[1;32m     11\u001b[0m         \u001b[0mll\u001b[0m \u001b[0;34m=\u001b[0m \u001b[0mfs\u001b[0m\u001b[0;34m.\u001b[0m\u001b[0mls\u001b[0m\u001b[0;34m(\u001b[0m\u001b[0;34mf'natural-scenes-dataset/nsddata_betas/ppdata/subj01/MNI/betas_fithrf/betas_session{session}.nii.gz'\u001b[0m\u001b[0;34m)\u001b[0m\u001b[0;34m\u001b[0m\u001b[0;34m\u001b[0m\u001b[0m\n\u001b[0;32m---> 12\u001b[0;31m     \u001b[0mfs\u001b[0m\u001b[0;34m.\u001b[0m\u001b[0mget\u001b[0m\u001b[0;34m(\u001b[0m\u001b[0mll\u001b[0m\u001b[0;34m[\u001b[0m\u001b[0;36m0\u001b[0m\u001b[0;34m]\u001b[0m\u001b[0;34m,\u001b[0m \u001b[0;34m\"tmp.nii.gz\"\u001b[0m\u001b[0;34m)\u001b[0m\u001b[0;34m\u001b[0m\u001b[0;34m\u001b[0m\u001b[0m\n\u001b[0m\u001b[1;32m     13\u001b[0m     \u001b[0mimg\u001b[0m \u001b[0;34m=\u001b[0m \u001b[0mnib\u001b[0m\u001b[0;34m.\u001b[0m\u001b[0mload\u001b[0m\u001b[0;34m(\u001b[0m\u001b[0;34m\"tmp.nii.gz\"\u001b[0m\u001b[0;34m)\u001b[0m\u001b[0;34m\u001b[0m\u001b[0;34m\u001b[0m\u001b[0m\n\u001b[1;32m     14\u001b[0m     \u001b[0mtrials_sub_ses\u001b[0m \u001b[0;34m=\u001b[0m \u001b[0mtrials_sub1\u001b[0m\u001b[0;34m[\u001b[0m\u001b[0;34m(\u001b[0m\u001b[0mtrials_sub1\u001b[0m\u001b[0;34m.\u001b[0m\u001b[0mSESSION\u001b[0m \u001b[0;34m==\u001b[0m \u001b[0msession\u001b[0m\u001b[0;34m)\u001b[0m\u001b[0;34m]\u001b[0m\u001b[0;34m\u001b[0m\u001b[0;34m\u001b[0m\u001b[0m\n",
      "\u001b[0;32m/srv/conda/envs/notebook/lib/python3.7/site-packages/fsspec/asyn.py\u001b[0m in \u001b[0;36mwrapper\u001b[0;34m(*args, **kwargs)\u001b[0m\n\u001b[1;32m    109\u001b[0m     \u001b[0;32mdef\u001b[0m \u001b[0mwrapper\u001b[0m\u001b[0;34m(\u001b[0m\u001b[0;34m*\u001b[0m\u001b[0margs\u001b[0m\u001b[0;34m,\u001b[0m \u001b[0;34m**\u001b[0m\u001b[0mkwargs\u001b[0m\u001b[0;34m)\u001b[0m\u001b[0;34m:\u001b[0m\u001b[0;34m\u001b[0m\u001b[0;34m\u001b[0m\u001b[0m\n\u001b[1;32m    110\u001b[0m         \u001b[0mself\u001b[0m \u001b[0;34m=\u001b[0m \u001b[0mobj\u001b[0m \u001b[0;32mor\u001b[0m \u001b[0margs\u001b[0m\u001b[0;34m[\u001b[0m\u001b[0;36m0\u001b[0m\u001b[0;34m]\u001b[0m\u001b[0;34m\u001b[0m\u001b[0;34m\u001b[0m\u001b[0m\n\u001b[0;32m--> 111\u001b[0;31m         \u001b[0;32mreturn\u001b[0m \u001b[0msync\u001b[0m\u001b[0;34m(\u001b[0m\u001b[0mself\u001b[0m\u001b[0;34m.\u001b[0m\u001b[0mloop\u001b[0m\u001b[0;34m,\u001b[0m \u001b[0mfunc\u001b[0m\u001b[0;34m,\u001b[0m \u001b[0;34m*\u001b[0m\u001b[0margs\u001b[0m\u001b[0;34m,\u001b[0m \u001b[0;34m**\u001b[0m\u001b[0mkwargs\u001b[0m\u001b[0;34m)\u001b[0m\u001b[0;34m\u001b[0m\u001b[0;34m\u001b[0m\u001b[0m\n\u001b[0m\u001b[1;32m    112\u001b[0m \u001b[0;34m\u001b[0m\u001b[0m\n\u001b[1;32m    113\u001b[0m     \u001b[0;32mreturn\u001b[0m \u001b[0mwrapper\u001b[0m\u001b[0;34m\u001b[0m\u001b[0;34m\u001b[0m\u001b[0m\n",
      "\u001b[0;32m/srv/conda/envs/notebook/lib/python3.7/site-packages/fsspec/asyn.py\u001b[0m in \u001b[0;36msync\u001b[0;34m(loop, func, timeout, *args, **kwargs)\u001b[0m\n\u001b[1;32m     82\u001b[0m     \u001b[0;32mwhile\u001b[0m \u001b[0;32mTrue\u001b[0m\u001b[0;34m:\u001b[0m\u001b[0;34m\u001b[0m\u001b[0;34m\u001b[0m\u001b[0m\n\u001b[1;32m     83\u001b[0m         \u001b[0;31m# this loops allows thread to get interrupted\u001b[0m\u001b[0;34m\u001b[0m\u001b[0;34m\u001b[0m\u001b[0;34m\u001b[0m\u001b[0m\n\u001b[0;32m---> 84\u001b[0;31m         \u001b[0;32mif\u001b[0m \u001b[0mevent\u001b[0m\u001b[0;34m.\u001b[0m\u001b[0mwait\u001b[0m\u001b[0;34m(\u001b[0m\u001b[0;36m1\u001b[0m\u001b[0;34m)\u001b[0m\u001b[0;34m:\u001b[0m\u001b[0;34m\u001b[0m\u001b[0;34m\u001b[0m\u001b[0m\n\u001b[0m\u001b[1;32m     85\u001b[0m             \u001b[0;32mbreak\u001b[0m\u001b[0;34m\u001b[0m\u001b[0;34m\u001b[0m\u001b[0m\n\u001b[1;32m     86\u001b[0m         \u001b[0;32mif\u001b[0m \u001b[0mtimeout\u001b[0m \u001b[0;32mis\u001b[0m \u001b[0;32mnot\u001b[0m \u001b[0;32mNone\u001b[0m\u001b[0;34m:\u001b[0m\u001b[0;34m\u001b[0m\u001b[0;34m\u001b[0m\u001b[0m\n",
      "\u001b[0;32m/srv/conda/envs/notebook/lib/python3.7/threading.py\u001b[0m in \u001b[0;36mwait\u001b[0;34m(self, timeout)\u001b[0m\n\u001b[1;32m    550\u001b[0m             \u001b[0msignaled\u001b[0m \u001b[0;34m=\u001b[0m \u001b[0mself\u001b[0m\u001b[0;34m.\u001b[0m\u001b[0m_flag\u001b[0m\u001b[0;34m\u001b[0m\u001b[0;34m\u001b[0m\u001b[0m\n\u001b[1;32m    551\u001b[0m             \u001b[0;32mif\u001b[0m \u001b[0;32mnot\u001b[0m \u001b[0msignaled\u001b[0m\u001b[0;34m:\u001b[0m\u001b[0;34m\u001b[0m\u001b[0;34m\u001b[0m\u001b[0m\n\u001b[0;32m--> 552\u001b[0;31m                 \u001b[0msignaled\u001b[0m \u001b[0;34m=\u001b[0m \u001b[0mself\u001b[0m\u001b[0;34m.\u001b[0m\u001b[0m_cond\u001b[0m\u001b[0;34m.\u001b[0m\u001b[0mwait\u001b[0m\u001b[0;34m(\u001b[0m\u001b[0mtimeout\u001b[0m\u001b[0;34m)\u001b[0m\u001b[0;34m\u001b[0m\u001b[0;34m\u001b[0m\u001b[0m\n\u001b[0m\u001b[1;32m    553\u001b[0m             \u001b[0;32mreturn\u001b[0m \u001b[0msignaled\u001b[0m\u001b[0;34m\u001b[0m\u001b[0;34m\u001b[0m\u001b[0m\n\u001b[1;32m    554\u001b[0m \u001b[0;34m\u001b[0m\u001b[0m\n",
      "\u001b[0;32m/srv/conda/envs/notebook/lib/python3.7/threading.py\u001b[0m in \u001b[0;36mwait\u001b[0;34m(self, timeout)\u001b[0m\n\u001b[1;32m    298\u001b[0m             \u001b[0;32melse\u001b[0m\u001b[0;34m:\u001b[0m\u001b[0;34m\u001b[0m\u001b[0;34m\u001b[0m\u001b[0m\n\u001b[1;32m    299\u001b[0m                 \u001b[0;32mif\u001b[0m \u001b[0mtimeout\u001b[0m \u001b[0;34m>\u001b[0m \u001b[0;36m0\u001b[0m\u001b[0;34m:\u001b[0m\u001b[0;34m\u001b[0m\u001b[0;34m\u001b[0m\u001b[0m\n\u001b[0;32m--> 300\u001b[0;31m                     \u001b[0mgotit\u001b[0m \u001b[0;34m=\u001b[0m \u001b[0mwaiter\u001b[0m\u001b[0;34m.\u001b[0m\u001b[0macquire\u001b[0m\u001b[0;34m(\u001b[0m\u001b[0;32mTrue\u001b[0m\u001b[0;34m,\u001b[0m \u001b[0mtimeout\u001b[0m\u001b[0;34m)\u001b[0m\u001b[0;34m\u001b[0m\u001b[0;34m\u001b[0m\u001b[0m\n\u001b[0m\u001b[1;32m    301\u001b[0m                 \u001b[0;32melse\u001b[0m\u001b[0;34m:\u001b[0m\u001b[0;34m\u001b[0m\u001b[0;34m\u001b[0m\u001b[0m\n\u001b[1;32m    302\u001b[0m                     \u001b[0mgotit\u001b[0m \u001b[0;34m=\u001b[0m \u001b[0mwaiter\u001b[0m\u001b[0;34m.\u001b[0m\u001b[0macquire\u001b[0m\u001b[0;34m(\u001b[0m\u001b[0;32mFalse\u001b[0m\u001b[0;34m)\u001b[0m\u001b[0;34m\u001b[0m\u001b[0;34m\u001b[0m\u001b[0m\n",
      "\u001b[0;31mKeyboardInterrupt\u001b[0m: "
     ]
    }
   ],
   "source": [
    "# 1.8 mm space functional data\n",
    "# subj 1, session 1 \n",
    "#trials = trials_sub1['trial_in_session'].tolist()\n",
    "\n",
    "#beta_trials = []\n",
    "#np.asarray(beta_trials)\n",
    "for session in trials_sub1.SESSION.unique():\n",
    "    if session < 10:\n",
    "        ll = fs.ls(f'natural-scenes-dataset/nsddata_betas/ppdata/subj01/MNI/betas_fithrf/betas_session0{session}.nii.gz')\n",
    "    else: \n",
    "        ll = fs.ls(f'natural-scenes-dataset/nsddata_betas/ppdata/subj01/MNI/betas_fithrf/betas_session{session}.nii.gz')\n",
    "    fs.get(ll[0], \"tmp.nii.gz\")   \n",
    "    img = nib.load(\"tmp.nii.gz\")\n",
    "    trials_sub_ses = trials_sub1[(trials_sub1.SESSION == session)]\n",
    "    beta_trials = pd.DataFrame(columns = [\"Betas\", \"Trial\", \"Session\"])\n",
    "    \n",
    "    for count, t in enumerate(trials_sub_ses['trial_in_session'].tolist()):\n",
    "        beta_trial = img.slicer[:,:,:,t].get_fdata()/300 #get trial 1\n",
    "        #beta_trials = np.expand_dims(beta_trial,axis=3)\n",
    "        beta_trials.at[count,'Betas'] = beta_trial\n",
    "        beta_trials.at[count,'Trial'] = t\n",
    "    \n",
    "    beta_trials[\"Session\"] = session\n",
    "    if (session == 1):\n",
    "        beta_trials.to_csv('betas_sub1.csv', index=False)\n",
    "    else:\n",
    "        beta_trials.to_csv('betas_sub1.csv', index=False, mode=\"a\")\n",
    "            #beta_trial = beta_trial[:,:,:,np.newaxis]\n",
    "            #beta_trial = beta_trial[:,:,:,t]\n",
    "            #beta_trials = np.append(beta_trials, beta_trial,axis=3)\n",
    "    "
   ]
  },
  {
   "cell_type": "code",
   "execution_count": null,
   "id": "e973442c-7a0f-4d70-b63e-c6b94d3a16f8",
   "metadata": {},
   "outputs": [],
   "source": [
    "print(\"session 1 beta, data shape:\", beta_trials.shape)"
   ]
  },
  {
   "cell_type": "code",
   "execution_count": null,
   "id": "a389e9dc-25ab-48f1-982f-317a1d6be38e",
   "metadata": {},
   "outputs": [],
   "source": [
    "beta_trials.to_csv('betas_sub1_ses1.csv', index=False)"
   ]
  },
  {
   "cell_type": "code",
   "execution_count": null,
   "id": "8accd8f8-e72f-48ed-8b0d-d3381e4e1301",
   "metadata": {},
   "outputs": [],
   "source": [
    "# overlay beta map with brain mask\n",
    "plotting.plot_stat_map(nib.Nifti1Image(beta_trial01, img.affine), # this function needs a 3D data file\n",
    "                       bg_img=nib.Nifti1Image(brainmask, brainmask_img.affine), # load the brain mask as a background picture\n",
    "                       cut_coords=(0, 0, 0), #use to select coordinates that you want to view\n",
    "                       title=\"test\",\n",
    "                       vmax=5)"
   ]
  },
  {
   "cell_type": "code",
   "execution_count": null,
   "id": "8bcbede0-b1b2-4c30-9de5-dc8fb3f0127d",
   "metadata": {},
   "outputs": [],
   "source": [
    "type(beta_trials)"
   ]
  },
  {
   "cell_type": "code",
   "execution_count": 17,
   "id": "6e2b2b72-e2a0-483e-a654-f9547b3dedc7",
   "metadata": {},
   "outputs": [],
   "source": [
    "session_id = trials_sub1.SESSION.unique()"
   ]
  },
  {
   "cell_type": "code",
   "execution_count": 21,
   "id": "679eac1d-fea0-42bd-8ef2-b01cf8780f2f",
   "metadata": {},
   "outputs": [
    {
     "data": {
      "text/plain": [
       "6"
      ]
     },
     "execution_count": 21,
     "metadata": {},
     "output_type": "execute_result"
    }
   ],
   "source": [
    "session_id[5]"
   ]
  },
  {
   "cell_type": "code",
   "execution_count": null,
   "id": "27a14d8c-3b0e-44f7-98e0-0393faacc4c5",
   "metadata": {},
   "outputs": [],
   "source": []
  }
 ],
 "metadata": {
  "kernelspec": {
   "display_name": "Python 3 (ipykernel)",
   "language": "python",
   "name": "python3"
  },
  "language_info": {
   "codemirror_mode": {
    "name": "ipython",
    "version": 3
   },
   "file_extension": ".py",
   "mimetype": "text/x-python",
   "name": "python",
   "nbconvert_exporter": "python",
   "pygments_lexer": "ipython3",
   "version": "3.7.12"
  }
 },
 "nbformat": 4,
 "nbformat_minor": 5
}
