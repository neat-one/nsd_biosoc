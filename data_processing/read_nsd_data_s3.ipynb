{
 "cells": [
  {
   "cell_type": "code",
   "execution_count": 1,
   "id": "cc71ccfc-59e7-439c-935e-addf79c8806a",
   "metadata": {},
   "outputs": [],
   "source": [
    "import s3fs\n",
    "import nibabel as nib\n",
    "from nibabel.affines import rescale_affine\n",
    "import pandas as pd \n",
    "import matplotlib.pyplot as plt \n",
    "from skimage.transform import rescale\n",
    "from skimage.filters import gaussian\n",
    "from nilearn import plotting \n",
    "import numpy as np"
   ]
  },
  {
   "cell_type": "code",
   "execution_count": 2,
   "id": "09fc93d0-9ec5-4cd0-94a9-23ece4ff77bc",
   "metadata": {},
   "outputs": [],
   "source": [
    "fs = s3fs.S3FileSystem(anon=True)"
   ]
  },
  {
   "cell_type": "code",
   "execution_count": 14,
   "id": "73e6ebcd-ca0b-423e-8130-8b4429ee0ec6",
   "metadata": {},
   "outputs": [],
   "source": [
    "#ll = fs.ls('natural-scenes-dataset/nsddata_betas/ppdata/subj01/MNI/betas_fithrf/betas_session0.nii.gz')\n",
    "#mask = fs.ls('natural-scenes-dataset/nsddata/ppdata/subj01/func1pt8mm/brainmask.nii.gz')"
   ]
  },
  {
   "cell_type": "code",
   "execution_count": null,
   "id": "d600948c-dec1-40aa-b5b9-84221e207efa",
   "metadata": {},
   "outputs": [],
   "source": [
    "#ll"
   ]
  },
  {
   "cell_type": "code",
   "execution_count": 44,
   "id": "cf7629d0-9097-4d2a-98a2-a547a6a35826",
   "metadata": {},
   "outputs": [],
   "source": [
    "\n",
    "#for fname in ll: \n",
    "    #fs.get(fname, \"tmp.nii.gz\")\n",
    "    #img = nib.load(\"tmp.nii.gz\")\n",
    "\n",
    "    # XXX do something with one file\n",
    "#fs.get(ll[0], \"tmp.nii.gz\")\n",
    "#fs.get(mask[0], \"brainmask.nii.gz\")\n",
    "\n",
    "img = nib.load(\"tmp.nii.gz\")\n",
    "#img_data = img.get_fdata()\n",
    "beta_trial = img.slicer[:,:,:,1].get_fdata()/300 #get trial 1\n",
    "\n",
    "#brainmask_img = nib.load(\"brainmask.nii.gz\")\n",
    "#brainmask = brainmask_img.get_fdata()\n",
    "#header = img.header\n",
    "\n",
    "#smooth\n",
    "img_smoothed = gaussian(beta_trial, sigma=4)\n",
    "\n",
    "#downsample \n",
    "img_rescaled = rescale(img_smoothed, 0.25, anti_aliasing=False)\n",
    "\n",
    "rescaled_affine = rescale_affine(img.affine, shape = beta_trial.shape, zooms = (4, 4, 4), new_shape = img_rescaled.shape)\n",
    "\n",
    "#flattening \n",
    "flat_img = img_rescaled.flatten()\n",
    "\n",
    "#sigma = 8 #the higher the smoother, will smooth less when we have time, for now at 8 for neurohack presentation timeline \n",
    "#fhwm = nibabel.processing.sigma2fwhm(sigma) \n",
    "#smoothed_img = nibabel.processing.smooth_image(down_img, fhwm) \n",
    "\n",
    "#affine nibabel documentation \n",
    "\n",
    "    # Append into total results:\n",
    "    # results.append(XXX)"
   ]
  },
  {
   "cell_type": "code",
   "execution_count": 26,
   "id": "c2af31e2-81f5-42ef-816e-32175b41ceb2",
   "metadata": {},
   "outputs": [
    {
     "data": {
      "text/plain": [
       "(182, 218, 182)"
      ]
     },
     "execution_count": 26,
     "metadata": {},
     "output_type": "execute_result"
    }
   ],
   "source": [
    "beta_trial.shape"
   ]
  },
  {
   "cell_type": "code",
   "execution_count": 27,
   "id": "3ad26f15-3d3c-41e6-bde7-2e337bfbb81e",
   "metadata": {},
   "outputs": [
    {
     "data": {
      "text/plain": [
       "(182, 218, 182)"
      ]
     },
     "execution_count": 27,
     "metadata": {},
     "output_type": "execute_result"
    }
   ],
   "source": [
    "img_smoothed.shape"
   ]
  },
  {
   "cell_type": "code",
   "execution_count": 43,
   "id": "6f61f7e6-4f49-4318-a187-26a52a2bc041",
   "metadata": {},
   "outputs": [
    {
     "data": {
      "text/plain": [
       "(46, 54, 46)"
      ]
     },
     "execution_count": 43,
     "metadata": {},
     "output_type": "execute_result"
    }
   ],
   "source": [
    "img_rescaled.shape"
   ]
  },
  {
   "cell_type": "code",
   "execution_count": 45,
   "id": "b4ff4607-4943-4a08-86c9-fd64c0bc348a",
   "metadata": {},
   "outputs": [
    {
     "data": {
      "text/plain": [
       "(114264,)"
      ]
     },
     "execution_count": 45,
     "metadata": {},
     "output_type": "execute_result"
    }
   ],
   "source": [
    "flat_img.shape"
   ]
  },
  {
   "cell_type": "code",
   "execution_count": 3,
   "id": "860c7b1c-319a-478a-a4a1-5070f3860590",
   "metadata": {},
   "outputs": [
    {
     "data": {
      "text/plain": [
       "2371"
      ]
     },
     "execution_count": 3,
     "metadata": {},
     "output_type": "execute_result"
    }
   ],
   "source": [
    "subject = 3\n",
    "trials_info = pd.read_csv('../annotation_data/shared_trial_info.csv')\n",
    "trials_sub = trials_info[((trials_info.SUBJECT == subject))]\n",
    "trials_sub.head()\n",
    "len(trials_sub)"
   ]
  },
  {
   "cell_type": "code",
   "execution_count": 4,
   "id": "8a87bc6a-ee6d-4292-b72a-a6c0123eebd5",
   "metadata": {},
   "outputs": [
    {
     "ename": "NameError",
     "evalue": "name 'trials_sub1' is not defined",
     "output_type": "error",
     "traceback": [
      "\u001b[0;31m---------------------------------------------------------------------------\u001b[0m",
      "\u001b[0;31mNameError\u001b[0m                                 Traceback (most recent call last)",
      "\u001b[0;32m/tmp/ipykernel_200/3202792582.py\u001b[0m in \u001b[0;36m<module>\u001b[0;34m\u001b[0m\n\u001b[1;32m     14\u001b[0m     \u001b[0mfs\u001b[0m\u001b[0;34m.\u001b[0m\u001b[0mget\u001b[0m\u001b[0;34m(\u001b[0m\u001b[0mll\u001b[0m\u001b[0;34m[\u001b[0m\u001b[0;36m0\u001b[0m\u001b[0;34m]\u001b[0m\u001b[0;34m,\u001b[0m \u001b[0;34m\"tmp.nii.gz\"\u001b[0m\u001b[0;34m)\u001b[0m\u001b[0;34m\u001b[0m\u001b[0;34m\u001b[0m\u001b[0m\n\u001b[1;32m     15\u001b[0m     \u001b[0mimg\u001b[0m \u001b[0;34m=\u001b[0m \u001b[0mnib\u001b[0m\u001b[0;34m.\u001b[0m\u001b[0mload\u001b[0m\u001b[0;34m(\u001b[0m\u001b[0;34m\"tmp.nii.gz\"\u001b[0m\u001b[0;34m)\u001b[0m\u001b[0;34m\u001b[0m\u001b[0;34m\u001b[0m\u001b[0m\n\u001b[0;32m---> 16\u001b[0;31m     \u001b[0mtrials_sub_ses\u001b[0m \u001b[0;34m=\u001b[0m \u001b[0mtrials_sub1\u001b[0m\u001b[0;34m[\u001b[0m\u001b[0;34m(\u001b[0m\u001b[0mtrials_sub\u001b[0m\u001b[0;34m.\u001b[0m\u001b[0mSESSION\u001b[0m \u001b[0;34m==\u001b[0m \u001b[0msession\u001b[0m\u001b[0;34m)\u001b[0m\u001b[0;34m]\u001b[0m\u001b[0;34m\u001b[0m\u001b[0;34m\u001b[0m\u001b[0m\n\u001b[0m\u001b[1;32m     17\u001b[0m     \u001b[0mprint\u001b[0m\u001b[0;34m(\u001b[0m\u001b[0;34m\"file loaded\"\u001b[0m\u001b[0;34m)\u001b[0m\u001b[0;34m\u001b[0m\u001b[0;34m\u001b[0m\u001b[0m\n\u001b[1;32m     18\u001b[0m \u001b[0;34m\u001b[0m\u001b[0m\n",
      "\u001b[0;31mNameError\u001b[0m: name 'trials_sub1' is not defined"
     ]
    }
   ],
   "source": [
    "# 1.8 mm space functional data\n",
    "# subj 1, session 1 \n",
    "#trials = trials_sub1['trial_in_session'].tolist()\n",
    "#sessions = [1] #For veronica testing\n",
    "sessions = trials_sub.SESSION.unique() #to loop over all sessions\n",
    "\n",
    "#beta_trials = []\n",
    "#np.asarray(beta_trials)\n",
    "for session in sessions:\n",
    "    if (session < 10):\n",
    "        ll = fs.ls(f'natural-scenes-dataset/nsddata_betas/ppdata/subj0{subject}/MNI/betas_fithrf/betas_session0{session}.nii.gz')\n",
    "    else: \n",
    "        ll = fs.ls(f'natural-scenes-dataset/nsddata_betas/ppdata/subj0{subject}/MNI/betas_fithrf/betas_session{session}.nii.gz')\n",
    "    fs.get(ll[0], \"tmp.nii.gz\")   \n",
    "    img = nib.load(\"tmp.nii.gz\")\n",
    "    trials_sub_ses = trials_sub[(trials_sub.SESSION == session)]\n",
    "    print(\"file loaded\")\n",
    "    \n",
    "    for count, t in enumerate(trials_sub_ses['trial_in_session'].tolist()):\n",
    "        beta_trial = img.slicer[:,:,:,t].get_fdata()/300 #get trial 1\n",
    "                    \n",
    "        #smooth\n",
    "        img_smoothed = gaussian(beta_trial, sigma=4)\n",
    "\n",
    "        #downsample \n",
    "        img_rescaled = rescale(img_smoothed, 0.25, anti_aliasing=False)\n",
    "\n",
    "        rescaled_affine = rescale_affine(img.affine, shape = beta_trial.shape, zooms = (4, 4, 4), new_shape = img_rescaled.shape)\n",
    "\n",
    "        #flattening \n",
    "        flat_img = img_rescaled.flatten()\n",
    "        \n",
    "        if (count ==0):\n",
    "            ses_betas = flat_img\n",
    "        else:\n",
    "            ses_betas = np.vstack((ses_betas, flat_img))\n",
    "        print(f\"ran trial {t} for session {session}\")\n",
    "    #save to np array \n",
    "    fname = f\"./derivatives/subj{subject}_ses{session}.npy\"\n",
    "    np.save(fname, ses_betas)\n",
    "    print(f\"saved file for session {session}\")\n",
    "    #if (session == 1):\n",
    "        #beta_trials.to_csv('betas_sub1.csv', index=False)\n",
    "    #else:\n",
    "        #beta_trials.to_csv('betas_sub1.csv', index=False, mode=\"a\")\n",
    "            #beta_trial = beta_trial[:,:,:,np.newaxis]\n",
    "            #beta_trial = beta_trial[:,:,:,t]\n",
    "            #beta_trials = np.append(beta_trials, beta_trial,axis=3)\n",
    "    "
   ]
  },
  {
   "cell_type": "code",
   "execution_count": null,
   "id": "e973442c-7a0f-4d70-b63e-c6b94d3a16f8",
   "metadata": {},
   "outputs": [],
   "source": [
    "print(\"session 1 beta, data shape:\", beta_trials.shape)"
   ]
  },
  {
   "cell_type": "code",
   "execution_count": null,
   "id": "a389e9dc-25ab-48f1-982f-317a1d6be38e",
   "metadata": {},
   "outputs": [],
   "source": [
    "#beta_trials.to_csv('betas_sub1_ses1.csv', index=False)"
   ]
  },
  {
   "cell_type": "code",
   "execution_count": 42,
   "id": "8accd8f8-e72f-48ed-8b0d-d3381e4e1301",
   "metadata": {},
   "outputs": [
    {
     "data": {
      "text/plain": [
       "<nilearn.plotting.displays._slicers.OrthoSlicer at 0x7f4cccc06b90>"
      ]
     },
     "execution_count": 42,
     "metadata": {},
     "output_type": "execute_result"
    },
    {
     "data": {
      "image/png": "[encoded data removed]",
      "text/plain": [
       "<Figure size 525.6x187.2 with 5 Axes>"
      ]
     },
     "metadata": {},
     "output_type": "display_data"
    }
   ],
   "source": [
    "# overlay beta map with brain mask\n",
    "plotting.plot_stat_map(nib.Nifti1Image(img_rescaled, rescaled_affine), # this function needs a 3D data file\n",
    "                       #bg_img=nib.Nifti1Image(brainmask, brainmask_img.affine), # load the brain mask as a background picture\n",
    "                       cut_coords=(0, 0, 0), #use to select coordinates that you want to view\n",
    "                       title=\"test\",\n",
    "                       vmax=5)"
   ]
  },
  {
   "cell_type": "code",
   "execution_count": 40,
   "id": "36a622f6-91c3-43f0-b4c2-7486201c6e9d",
   "metadata": {},
   "outputs": [
    {
     "data": {
      "text/plain": [
       "array([[   4.,    0.,    0.,  -89.],\n",
       "       [   0.,    4.,    0., -122.],\n",
       "       [   0.,    0.,    4.,  -70.],\n",
       "       [   0.,    0.,    0.,    1.]])"
      ]
     },
     "execution_count": 40,
     "metadata": {},
     "output_type": "execute_result"
    }
   ],
   "source": [
    "rescaled_affine"
   ]
  },
  {
   "cell_type": "code",
   "execution_count": 50,
   "id": "15e49405-9be1-4f3d-8021-6515e8c09e44",
   "metadata": {},
   "outputs": [
    {
     "data": {
      "text/plain": [
       "62"
      ]
     },
     "execution_count": 50,
     "metadata": {},
     "output_type": "execute_result"
    }
   ],
   "source": [
    "len(ses_betas)"
   ]
  },
  {
   "cell_type": "code",
   "execution_count": null,
   "id": "c197fd33-44f3-4a19-bfaa-3c7489da0000",
   "metadata": {},
   "outputs": [],
   "source": []
  }
 ],
 "metadata": {
  "kernelspec": {
   "display_name": "Python 3 (ipykernel)",
   "language": "python",
   "name": "python3"
  },
  "language_info": {
   "codemirror_mode": {
    "name": "ipython",
    "version": 3
   },
   "file_extension": ".py",
   "mimetype": "text/x-python",
   "name": "python",
   "nbconvert_exporter": "python",
   "pygments_lexer": "ipython3",
   "version": "3.7.12"
  }
 },
 "nbformat": 4,
 "nbformat_minor": 5
}
