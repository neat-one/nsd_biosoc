{
 "cells": [
  {
   "cell_type": "code",
   "execution_count": null,
   "id": "cc71ccfc-59e7-439c-935e-addf79c8806a",
   "metadata": {},
   "outputs": [],
   "source": [
    "import s3fs\n",
    "import nibabel as nib\n",
    "from nibabel.affines import rescale_affine\n",
    "import pandas as pd \n",
    "import matplotlib.pyplot as plt \n",
    "from skimage.transform import rescale\n",
    "from skimage.filters import gaussian\n",
    "from nilearn import plotting \n",
    "import numpy as np"
   ]
  },
  {
   "cell_type": "code",
   "execution_count": null,
   "id": "09fc93d0-9ec5-4cd0-94a9-23ece4ff77bc",
   "metadata": {},
   "outputs": [],
   "source": [
    "fs = s3fs.S3FileSystem(anon=True)"
   ]
  },
  {
   "cell_type": "code",
   "execution_count": null,
   "id": "b4ff4607-4943-4a08-86c9-fd64c0bc348a",
   "metadata": {},
   "outputs": [],
   "source": [
    "mkdir derivatives"
   ]
  },
  {
   "cell_type": "code",
   "execution_count": null,
   "id": "860c7b1c-319a-478a-a4a1-5070f3860590",
   "metadata": {},
   "outputs": [],
   "source": [
    "subject = 3 #change subject number to run \n",
    "trials_info = pd.read_csv('../annotation_data/shared_trial_info.csv')\n",
    "trials_sub = trials_info[((trials_info.SUBJECT == subject))]\n",
    "trials_sub.head()\n",
    "len(trials_sub)"
   ]
  },
  {
   "cell_type": "code",
   "execution_count": null,
   "id": "8a87bc6a-ee6d-4292-b72a-a6c0123eebd5",
   "metadata": {},
   "outputs": [],
   "source": [
    "#to parallelize, first make a function\n",
    "\n",
    "#toggle i to run 1 or all sessions (40 sessions total) \n",
    "i = 0 #0 = run all sessions, 1 = run a single session \n",
    "if i == 0:\n",
    "    sessions = trials_sub.SESSION.unique() #to loop over all sessions\n",
    "else: \n",
    "    sessions = [1] #change number to session you want to run \n",
    "\n",
    "for session in sessions:\n",
    "    if (session < 10):\n",
    "        ll = fs.ls(f'natural-scenes-dataset/nsddata_betas/ppdata/subj0{subject}/MNI/betas_fithrf/betas_session0{session}.nii.gz')\n",
    "    else: \n",
    "        ll = fs.ls(f'natural-scenes-dataset/nsddata_betas/ppdata/subj0{subject}/MNI/betas_fithrf/betas_session{session}.nii.gz')\n",
    "    fs.get(ll[0], \"tmp.nii.gz\")   \n",
    "    img = nib.load(\"tmp.nii.gz\")\n",
    "    trials_sub_ses = trials_sub[(trials_sub.SESSION == session)]\n",
    "    print(\"file loaded\")\n",
    "    \n",
    "    for count, t in enumerate(trials_sub_ses['trial_in_session'].tolist()):\n",
    "        beta_trial = img.slicer[:,:,:,t].get_fdata()/300 #get trial 1\n",
    "                    \n",
    "        #smooth\n",
    "        img_smoothed = gaussian(beta_trial, sigma=4)\n",
    "\n",
    "        #downsample \n",
    "        img_rescaled = rescale(img_smoothed, 0.25, anti_aliasing=False)\n",
    "\n",
    "        rescaled_affine = rescale_affine(img.affine, shape = beta_trial.shape, zooms = (4, 4, 4), new_shape = img_rescaled.shape)\n",
    "\n",
    "        #flattening \n",
    "        flat_img = img_rescaled.flatten()\n",
    "        \n",
    "        if (count ==0):\n",
    "            ses_betas = flat_img\n",
    "        else:\n",
    "            ses_betas = np.vstack((ses_betas, flat_img))\n",
    "        print(f\"ran trial {t} for session {session}\")\n",
    "    #save to np array \n",
    "    fname = f\"./derivatives/subj{subject}_ses{session}.npy\"\n",
    "    np.save(fname, ses_betas)\n",
    "    print(f\"saved file for session {session}\")"
   ]
  },
  {
   "cell_type": "code",
   "execution_count": null,
   "id": "8accd8f8-e72f-48ed-8b0d-d3381e4e1301",
   "metadata": {},
   "outputs": [],
   "source": [
    "# overlay beta map with brain mask\n",
    "plotting.plot_stat_map(nib.Nifti1Image(img_rescaled, rescaled_affine), # this function needs a 3D data file\n",
    "                       cut_coords=(0, 0, 0), #use to select coordinates that you want to view\n",
    "                       title=\"test\",\n",
    "                       vmax=5)"
   ]
  }
 ],
 "metadata": {
  "kernelspec": {
   "display_name": "Python 3 (ipykernel)",
   "language": "python",
   "name": "python3"
  },
  "language_info": {
   "codemirror_mode": {
    "name": "ipython",
    "version": 3
   },
   "file_extension": ".py",
   "mimetype": "text/x-python",
   "name": "python",
   "nbconvert_exporter": "python",
   "pygments_lexer": "ipython3",
   "version": "3.7.12"
  }
 },
 "nbformat": 4,
 "nbformat_minor": 5
}
