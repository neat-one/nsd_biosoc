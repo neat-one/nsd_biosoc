{
 "cells": [
  {
   "cell_type": "code",
   "execution_count": 1,
   "id": "70216656-1dae-476d-9ac9-54a7774f0c1a",
   "metadata": {},
   "outputs": [],
   "source": [
    "#Import relevant packages.\n",
    "import pandas as pd\n",
    "import numpy as np \n",
    "from sklearn import svm\n",
    "from sklearn.model_selection import GridSearchCV\n",
    "from sklearn.model_selection import train_test_split"
   ]
  },
  {
   "cell_type": "code",
   "execution_count": 2,
   "id": "eef90241-5573-4882-899c-30cc5e356122",
   "metadata": {},
   "outputs": [],
   "source": [
    "#Load the data.\n",
    "df = pd.read_csv('../data_processing/betas_sub1_ses1.csv') #add the file here"
   ]
  },
  {
   "cell_type": "code",
   "execution_count": 3,
   "id": "345f8431-4169-4a7f-9279-a63a0c024e4a",
   "metadata": {},
   "outputs": [
    {
     "data": {
      "text/html": [
       "<div>\n",
       "<style scoped>\n",
       "    .dataframe tbody tr th:only-of-type {\n",
       "        vertical-align: middle;\n",
       "    }\n",
       "\n",
       "    .dataframe tbody tr th {\n",
       "        vertical-align: top;\n",
       "    }\n",
       "\n",
       "    .dataframe thead th {\n",
       "        text-align: right;\n",
       "    }\n",
       "</style>\n",
       "<table border=\"1\" class=\"dataframe\">\n",
       "  <thead>\n",
       "    <tr style=\"text-align: right;\">\n",
       "      <th></th>\n",
       "      <th>Betas</th>\n",
       "      <th>Trial</th>\n",
       "    </tr>\n",
       "  </thead>\n",
       "  <tbody>\n",
       "    <tr>\n",
       "      <th>0</th>\n",
       "      <td>[[[0. 0. 0. ... 0. 0. 0.]\\n  [0. 0. 0. ... 0. ...</td>\n",
       "      <td>0</td>\n",
       "    </tr>\n",
       "    <tr>\n",
       "      <th>1</th>\n",
       "      <td>[[[0. 0. 0. ... 0. 0. 0.]\\n  [0. 0. 0. ... 0. ...</td>\n",
       "      <td>28</td>\n",
       "    </tr>\n",
       "    <tr>\n",
       "      <th>2</th>\n",
       "      <td>[[[0. 0. 0. ... 0. 0. 0.]\\n  [0. 0. 0. ... 0. ...</td>\n",
       "      <td>35</td>\n",
       "    </tr>\n",
       "    <tr>\n",
       "      <th>3</th>\n",
       "      <td>[[[0. 0. 0. ... 0. 0. 0.]\\n  [0. 0. 0. ... 0. ...</td>\n",
       "      <td>44</td>\n",
       "    </tr>\n",
       "    <tr>\n",
       "      <th>4</th>\n",
       "      <td>[[[0. 0. 0. ... 0. 0. 0.]\\n  [0. 0. 0. ... 0. ...</td>\n",
       "      <td>55</td>\n",
       "    </tr>\n",
       "  </tbody>\n",
       "</table>\n",
       "</div>"
      ],
      "text/plain": [
       "                                               Betas  Trial\n",
       "0  [[[0. 0. 0. ... 0. 0. 0.]\\n  [0. 0. 0. ... 0. ...      0\n",
       "1  [[[0. 0. 0. ... 0. 0. 0.]\\n  [0. 0. 0. ... 0. ...     28\n",
       "2  [[[0. 0. 0. ... 0. 0. 0.]\\n  [0. 0. 0. ... 0. ...     35\n",
       "3  [[[0. 0. 0. ... 0. 0. 0.]\\n  [0. 0. 0. ... 0. ...     44\n",
       "4  [[[0. 0. 0. ... 0. 0. 0.]\\n  [0. 0. 0. ... 0. ...     55"
      ]
     },
     "execution_count": 3,
     "metadata": {},
     "output_type": "execute_result"
    }
   ],
   "source": [
    "df.head()"
   ]
  },
  {
   "cell_type": "code",
   "execution_count": null,
   "id": "e1a43e1c-c7b4-4b91-9353-be5ce0fda3dd",
   "metadata": {},
   "outputs": [],
   "source": [
    "#Define the categories.\n",
    "categories = ['social', 'nonsocial']"
   ]
  },
  {
   "cell_type": "code",
   "execution_count": null,
   "id": "d3d60635-5c62-4d7f-b0f7-0924a94d1cf5",
   "metadata": {},
   "outputs": [],
   "source": [
    "#Create X and y to hold input and output/target arrays.\n",
    "\n",
    "#Will likely need to flatten X as well.\n",
    "#may need to resize X or change this, depending on form data actually comes in\n",
    "X = df['image_arr'].to_numpy()\n",
    "y = df['final_annotation'].to_numpy()"
   ]
  },
  {
   "cell_type": "code",
   "execution_count": null,
   "id": "bf2d99fa-7647-4b0d-bfc7-01af455611cf",
   "metadata": {},
   "outputs": [],
   "source": [
    "#Split data into train and test.\n",
    "x_train, x_test, y_train, y_test = train_test_split(x,\n",
    "                                                    y,\n",
    "                                                    test_size=0.20,\n",
    "                                                    random_state=42,\n",
    "                                                    stratify=y)"
   ]
  },
  {
   "cell_type": "code",
   "execution_count": null,
   "id": "5e76cf00-47d3-4498-9745-7beceb3b0b81",
   "metadata": {},
   "outputs": [],
   "source": [
    "#Create grid search.\n",
    "param_grid = {'C' : [0.1, 1, 10, 100],\n",
    "              'gamma' : [0.0001, 0.001, 0.1, 1],\n",
    "              'kernel' : ['rbf', 'poly']}\n",
    "\n",
    "svc = svm.SVC(probability=True)\n",
    "model = GridSearchCV(svc,\n",
    "                     param_grid)"
   ]
  },
  {
   "cell_type": "code",
   "execution_count": null,
   "id": "2cd14438-e2ec-4df9-98e9-5d023c21ed77",
   "metadata": {},
   "outputs": [],
   "source": [
    "#Fit the model to the training data.\n",
    "model.fit(x_train,y_train)\n",
    "\n",
    "#Show the best parameters.\n",
    "print(model.best_params_)"
   ]
  },
  {
   "cell_type": "code",
   "execution_count": null,
   "id": "dcb9b28b-eb36-4243-93f1-6822d70aa3cd",
   "metadata": {},
   "outputs": [],
   "source": [
    "#Make predictions with the model on the testing set.\n",
    "y_pred = model.predict(x_test)\n",
    "acc_score = accuracy_score(y_pred,y_test)*100\n",
    "print(f\"The model is {acc_score}% accurate\")"
   ]
  }
 ],
 "metadata": {
  "kernelspec": {
   "display_name": "Python 3 (ipykernel)",
   "language": "python",
   "name": "python3"
  },
  "language_info": {
   "codemirror_mode": {
    "name": "ipython",
    "version": 3
   },
   "file_extension": ".py",
   "mimetype": "text/x-python",
   "name": "python",
   "nbconvert_exporter": "python",
   "pygments_lexer": "ipython3",
   "version": "3.7.12"
  }
 },
 "nbformat": 4,
 "nbformat_minor": 5
}
