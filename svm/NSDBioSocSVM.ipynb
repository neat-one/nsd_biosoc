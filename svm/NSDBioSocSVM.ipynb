{
 "cells": [
  {
   "cell_type": "code",
   "execution_count": null,
   "id": "70216656-1dae-476d-9ac9-54a7774f0c1a",
   "metadata": {},
   "outputs": [],
   "source": [
    "#Import relevant packages.\n",
    "import pandas as pd\n",
    "import numpy as np \n",
    "from sklearn import svm\n",
    "from sklearn.model_selection import GridSearchCV\n",
    "from sklearn.model_selection import train_test_split"
   ]
  },
  {
   "cell_type": "code",
   "execution_count": null,
   "id": "eef90241-5573-4882-899c-30cc5e356122",
   "metadata": {},
   "outputs": [],
   "source": [
    "#Load the data.\n",
    "df = pd.read_csv(file) #add the file here"
   ]
  },
  {
   "cell_type": "code",
   "execution_count": null,
   "id": "e1a43e1c-c7b4-4b91-9353-be5ce0fda3dd",
   "metadata": {},
   "outputs": [],
   "source": [
    "#Define the categories.\n",
    "categories = ['social', 'nonsocial']"
   ]
  },
  {
   "cell_type": "code",
   "execution_count": null,
   "id": "d3d60635-5c62-4d7f-b0f7-0924a94d1cf5",
   "metadata": {},
   "outputs": [],
   "source": [
    "#Create X and y to hold input and output/target arrays.\n",
    "\n",
    "#Will likely need to flatten X as well.\n",
    "#may need to resize X or change this, depending on form data actually comes in\n",
    "X = df['image_arr'].to_numpy()\n",
    "y = df['final_annotation'].to_numpy()"
   ]
  },
  {
   "cell_type": "code",
   "execution_count": null,
   "id": "bf2d99fa-7647-4b0d-bfc7-01af455611cf",
   "metadata": {},
   "outputs": [],
   "source": [
    "#Split data into train and test.\n",
    "x_train, x_test, y_train, y_test = train_test_split(x,\n",
    "                                                    y,\n",
    "                                                    test_size=0.20,\n",
    "                                                    random_state=42,\n",
    "                                                    stratify=y)"
   ]
  },
  {
   "cell_type": "code",
   "execution_count": null,
   "id": "5e76cf00-47d3-4498-9745-7beceb3b0b81",
   "metadata": {},
   "outputs": [],
   "source": [
    "#Create grid search.\n",
    "param_grid = {'C' : [0.1, 1, 10, 100],\n",
    "              'gamma' : [0.0001, 0.001, 0.1, 1],\n",
    "              'kernel' : ['rbf', 'poly']}\n",
    "\n",
    "svc = svm.SVC(probability=True)\n",
    "model = GridSearchCV(svc,\n",
    "                     param_grid)"
   ]
  },
  {
   "cell_type": "code",
   "execution_count": null,
   "id": "2cd14438-e2ec-4df9-98e9-5d023c21ed77",
   "metadata": {},
   "outputs": [],
   "source": [
    "#Fit the model to the training data.\n",
    "model.fit(x_train,y_train)\n",
    "\n",
    "#Show the best parameters.\n",
    "print(model.best_params_)"
   ]
  },
  {
   "cell_type": "code",
   "execution_count": null,
   "id": "dcb9b28b-eb36-4243-93f1-6822d70aa3cd",
   "metadata": {},
   "outputs": [],
   "source": [
    "#Make predictions with the model on the testing set.\n",
    "y_pred = model.predict(x_test)\n",
    "acc_score = accuracy_score(y_pred,y_test)*100\n",
    "print(f\"The model is {acc_score}% accurate\")"
   ]
  }
 ],
 "metadata": {
  "kernelspec": {
   "display_name": "Python 3 (ipykernel)",
   "language": "python",
   "name": "python3"
  },
  "language_info": {
   "codemirror_mode": {
    "name": "ipython",
    "version": 3
   },
   "file_extension": ".py",
   "mimetype": "text/x-python",
   "name": "python",
   "nbconvert_exporter": "python",
   "pygments_lexer": "ipython3",
   "version": "3.7.12"
  }
 },
 "nbformat": 4,
 "nbformat_minor": 5
}
