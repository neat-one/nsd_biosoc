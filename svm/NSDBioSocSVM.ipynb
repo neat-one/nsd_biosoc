{
 "cells": [
  {
   "cell_type": "code",
   "execution_count": null,
   "id": "70216656-1dae-476d-9ac9-54a7774f0c1a",
   "metadata": {},
   "outputs": [],
   "source": [
    "#Import relevant packages.\n",
    "import pandas as pd\n",
    "import numpy as np \n",
    "from sklearn import svm\n",
    "from sklearn.model_selection import GridSearchCV\n",
    "from sklearn.model_selection import train_test_split\n",
    "import seaborn as sns\n",
    "\n",
    "from random import randrange\n",
    "import matplotlib as plt\n",
    "import numpy as np; np.random.seed(0)\n",
    "import seaborn as sns; sns.set_theme()\n",
    "\n",
    "from sklearn.preprocessing import MinMaxScaler\n",
    "from sklearn.decomposition import PCA"
   ]
  },
  {
   "cell_type": "code",
   "execution_count": null,
   "id": "eef90241-5573-4882-899c-30cc5e356122",
   "metadata": {},
   "outputs": [],
   "source": [
    "#Load the data.\n",
    "df = pd.read_csv('../annotation_data/sample_input_output.csv') #add the file here"
   ]
  },
  {
   "cell_type": "code",
   "execution_count": null,
   "id": "c1949328-84a9-4c95-9efb-0b3dae86a045",
   "metadata": {},
   "outputs": [],
   "source": [
    "df.head()"
   ]
  },
  {
   "cell_type": "markdown",
   "id": "005539e2-176d-4ff6-b05f-3dff0b3b6184",
   "metadata": {},
   "source": [
    "## PCA"
   ]
  },
  {
   "cell_type": "code",
   "execution_count": null,
   "id": "22ecffed-3748-41f7-b4bf-b69eca7b61cd",
   "metadata": {},
   "outputs": [],
   "source": [
    "#Scale the data.  \n",
    "scaler = MinMaxScaler()\n",
    "feature_scaled = scaler.fit_transform(df.columns)\n",
    "\n",
    "#Apply PCA\n",
    "pca = PCA(n_components=3)\n",
    "pca.fit(feature_scaled)\n",
    "feature_scaled_pca = pca.transform(feature_scaled)\n",
    "np.shape(feature_scaled_pca)"
   ]
  },
  {
   "cell_type": "code",
   "execution_count": null,
   "id": "bed9aab3-cd13-4e34-80f2-f99499943c89",
   "metadata": {},
   "outputs": [],
   "source": [
    "feat_var = np.var(feature_scaled_pca, axis=0)\n",
    "feat_var_rat = feat_var/(np.sum(feat_var))\n",
    "\n",
    "print (\"Variance Ratio of the 4 Principal Components Ananlysis: \", feat_var_rat)"
   ]
  },
  {
   "cell_type": "code",
   "execution_count": null,
   "id": "0d3252d8-9f23-4893-8ed6-e0e98f534e20",
   "metadata": {},
   "outputs": [],
   "source": [
    "target_list = df.final_socnonsoc.tolist()\n",
    "\n",
    "feature_scaled_pca_X0 = feature_scaled_pca[:, 0]\n",
    "feature_scaled_pca_X1 = feature_scaled_pca[:, 1]\n",
    "feature_scaled_pca_X2 = feature_scaled_pca[:, 2]\n",
    "\n",
    "labels = target_list\n",
    "colordict = {0:'red', 1:'blue'}\n",
    "piclabel = {0:'Non-Social', 1:'Social'}\n",
    "markers = {0:'o', 1:'-'}\n",
    "alphas = {0:0.3, 1:0.4}\n",
    "\n",
    "fig = plt.figure(figsize=(12, 7))\n",
    "plt.subplot(1,2,1)\n",
    "for l in np.unique(labels):\n",
    "    ix = np.where(labels==l)\n",
    "    plt.scatter(feature_scaled_pca_X0[ix], feature_scaled_pca_X1[ix], c=colordict[l], \n",
    "               label=piclabel[l], s=40, marker=markers[l], alpha=alphas[l])\n",
    "plt.xlabel(\"First Principal Component\", fontsize=15)\n",
    "plt.ylabel(\"Second Principal Component\", fontsize=15)\n",
    "\n",
    "plt.legend(fontsize=15)\n",
    "\n",
    "plt.subplot(1,2,2)\n",
    "for l1 in np.unique(labels):\n",
    "    ix1 = np.where(labels==l1)\n",
    "    plt.scatter(feature_scaled_pca_X0[ix1], feature_scaled_pca_X2[ix1], c=colordict[l1], \n",
    "               label=piclabel[l1], s=40, marker=markers[l1], alpha=alphas[l1])\n",
    "plt.xlabel(\"First Principal Component\", fontsize=15)\n",
    "plt.ylabel(\"Third Principal Component\", fontsize=15)\n",
    "\n",
    "plt.subplot(2,2,2)\n",
    "for l1 in np.unique(labels):\n",
    "    ix1 = np.where(labels==l1)\n",
    "    plt.scatter(feature_scaled_pca_X1[ix1], feature_scaled_pca_X2[ix1], c=colordict[l1], \n",
    "               label=piclabel[l1], s=40, marker=markers[l1], alpha=alphas[l1])\n",
    "plt.xlabel(\"Second Principal Component\", fontsize=15)\n",
    "plt.ylabel(\"Third Principal Component\", fontsize=15)\n",
    "\n",
    "plt.legend(fontsize=15)\n",
    "\n",
    "# plt.savefig('Cancer_labels_PCAs.png', dpi=200)\n",
    "plt.show()"
   ]
  },
  {
   "cell_type": "markdown",
   "id": "e891c4b2-649f-436e-b462-569356592324",
   "metadata": {},
   "source": [
    "## SVM"
   ]
  },
  {
   "cell_type": "code",
   "execution_count": null,
   "id": "e1a43e1c-c7b4-4b91-9353-be5ce0fda3dd",
   "metadata": {},
   "outputs": [],
   "source": [
    "#Define the categories.\n",
    "df['categories'] = df['final_socnonsoc'].apply(lambda x: 'Social' if x==1 else 'Non-Social')"
   ]
  },
  {
   "cell_type": "code",
   "execution_count": null,
   "id": "431aa58d-e0c0-44de-b330-bfb1bf561217",
   "metadata": {},
   "outputs": [],
   "source": [
    "# 7221032"
   ]
  },
  {
   "cell_type": "code",
   "execution_count": null,
   "id": "d3d60635-5c62-4d7f-b0f7-0924a94d1cf5",
   "metadata": {},
   "outputs": [],
   "source": [
    "#Create X and y to hold input and output/target arrays.\n",
    "\n",
    "#Will likely need to flatten X as well.\n",
    "#may need to resize X or change this, depending on form data actually comes in\n",
    "X = df['Betas'].to_numpy()\n",
    "y = df['final_socnonsoc'].to_numpy()"
   ]
  },
  {
   "cell_type": "code",
   "execution_count": null,
   "id": "7d0480f7-236e-4cfb-89f4-201586763cee",
   "metadata": {},
   "outputs": [],
   "source": [
    "#Create violin plot for social vs. nonsocial and beta value.\n",
    "violin_plot = sns.violinplot(x=df['categories'], y=[randrange(7) for x in range(21118)], data=df)"
   ]
  },
  {
   "cell_type": "code",
   "execution_count": null,
   "id": "30b0a146-b7b5-4f74-acec-ecfcadc86889",
   "metadata": {},
   "outputs": [],
   "source": [
    "uniform_data = np.random.rand(10, 12)\n",
    "ax = sns.heatmap(uniform_data)"
   ]
  },
  {
   "cell_type": "code",
   "execution_count": null,
   "id": "adce6369-cc64-4295-ba83-9dff7b817135",
   "metadata": {},
   "outputs": [],
   "source": [
    "#Visualize the model's performance.\n",
    "plt.scatter(x.iloc[:, 0], x.iloc[:, 1], c=y, s=50, cmap='autumn')\n",
    "plt.scatter(model.support_vectors_[:,0],model.support_vectors_[:,1])"
   ]
  },
  {
   "cell_type": "code",
   "execution_count": null,
   "id": "561a2d92-b55c-4c15-8329-85880b968732",
   "metadata": {},
   "outputs": [],
   "source": []
  },
  {
   "cell_type": "code",
   "execution_count": null,
   "id": "f6af3080-f184-483c-9b7f-8ace8c9a69ea",
   "metadata": {},
   "outputs": [],
   "source": []
  },
  {
   "cell_type": "code",
   "execution_count": null,
   "id": "bf2d99fa-7647-4b0d-bfc7-01af455611cf",
   "metadata": {},
   "outputs": [],
   "source": [
    "#Split data into train and test.\n",
    "x_train, x_test, y_train, y_test = train_test_split(x,\n",
    "                                                    y,\n",
    "                                                    test_size=0.20,\n",
    "                                                    random_state=42,\n",
    "                                                    stratify=y)"
   ]
  },
  {
   "cell_type": "code",
   "execution_count": null,
   "id": "5e76cf00-47d3-4498-9745-7beceb3b0b81",
   "metadata": {},
   "outputs": [],
   "source": [
    "#Create grid search.\n",
    "param_grid = {'C' : [0.1, 1, 10, 100],\n",
    "              'gamma' : [0.0001, 0.001, 0.1, 1],\n",
    "              'kernel' : ['rbf', 'poly']}\n",
    "\n",
    "svc = svm.SVC(probability=True)\n",
    "model = GridSearchCV(svc,\n",
    "                     param_grid)"
   ]
  },
  {
   "cell_type": "code",
   "execution_count": null,
   "id": "2cd14438-e2ec-4df9-98e9-5d023c21ed77",
   "metadata": {},
   "outputs": [],
   "source": [
    "#Fit the model to the training data.\n",
    "model.fit(x_train,y_train)\n",
    "\n",
    "#Show the best parameters.\n",
    "print(model.best_params_)"
   ]
  },
  {
   "cell_type": "code",
   "execution_count": null,
   "id": "dcb9b28b-eb36-4243-93f1-6822d70aa3cd",
   "metadata": {},
   "outputs": [],
   "source": [
    "#Make predictions with the model on the testing set.\n",
    "y_pred = model.predict(x_test)\n",
    "acc_score = accuracy_score(y_pred,y_test)*100\n",
    "print(f\"The model is {acc_score}% accurate\")"
   ]
  },
  {
   "cell_type": "code",
   "execution_count": null,
   "id": "851dac53-2b1f-40ca-9154-f0d8675f8f65",
   "metadata": {},
   "outputs": [],
   "source": [
    "#Confusion Matrix\n"
   ]
  }
 ],
 "metadata": {
  "kernelspec": {
   "display_name": "Python 3 (ipykernel)",
   "language": "python",
   "name": "python3"
  },
  "language_info": {
   "codemirror_mode": {
    "name": "ipython",
    "version": 3
   },
   "file_extension": ".py",
   "mimetype": "text/x-python",
   "name": "python",
   "nbconvert_exporter": "python",
   "pygments_lexer": "ipython3",
   "version": "3.7.12"
  }
 },
 "nbformat": 4,
 "nbformat_minor": 5
}
