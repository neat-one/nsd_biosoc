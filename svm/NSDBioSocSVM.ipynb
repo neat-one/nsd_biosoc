{
 "cells": [
  {
   "cell_type": "code",
   "execution_count": 1,
   "id": "70216656-1dae-476d-9ac9-54a7774f0c1a",
   "metadata": {},
   "outputs": [],
   "source": [
    "#Import relevant packages.\n",
    "import os\n",
    "import pandas as pd\n",
    "import numpy as np \n",
    "from sklearn import svm\n",
    "from sklearn.model_selection import GridSearchCV, train_test_split\n",
    "import seaborn as sns\n",
    "\n",
    "from random import randrange\n",
    "import random\n",
    "import numpy as np; np.random.seed(0)\n",
    "import seaborn as sns; sns.set_theme()\n",
    "\n",
    "from sklearn.preprocessing import MinMaxScaler\n",
    "from sklearn.decomposition import PCA\n",
    "from sklearn.metrics import accuracy_score, confusion_matrix, plot_confusion_matrix\n",
    "\n",
    "import matplotlib.pyplot as plt\n",
    "from sklearn.datasets import make_classification\n",
    "from sklearn.svm import SVC\n",
    "import pickle"
   ]
  },
  {
   "cell_type": "code",
   "execution_count": 3,
   "id": "eef90241-5573-4882-899c-30cc5e356122",
   "metadata": {},
   "outputs": [
    {
     "name": "stdout",
     "output_type": "stream",
     "text": [
      "../data_processing/derivatives/subj1_ses4.npy\n",
      "(82, 114264)\n",
      "../data_processing/derivatives/subj1_ses9.npy\n",
      "(68, 114264)\n",
      "../data_processing/derivatives/subj2_ses12.npy\n",
      "(81, 114264)\n",
      "../data_processing/derivatives/subj7_ses3.npy\n",
      "(59, 114264)\n",
      "../data_processing/derivatives/subj2_ses1.npy\n",
      "(62, 114264)\n",
      "../data_processing/derivatives/subj3_ses3.npy\n",
      "(59, 114264)\n",
      "../data_processing/derivatives/subj5_ses1.npy\n",
      "(62, 114264)\n",
      "../data_processing/derivatives/subj3_ses18.npy\n",
      "(88, 114264)\n",
      "../data_processing/derivatives/subj2_ses7.npy\n",
      "(67, 114264)\n",
      "../data_processing/derivatives/subj4_ses2.npy\n",
      "(80, 114264)\n",
      "../data_processing/derivatives/subj4_ses14.npy\n",
      "(84, 114264)\n",
      "../data_processing/derivatives/subj4_ses8.npy\n",
      "(64, 114264)\n",
      "../data_processing/derivatives/subj2_ses11.npy\n",
      "(83, 114264)\n",
      "../data_processing/derivatives/subj3_ses6.npy\n",
      "(87, 114264)\n",
      "../data_processing/derivatives/subj2_ses5.npy\n",
      "(57, 114264)\n",
      "../data_processing/derivatives/subj3_ses5.npy\n",
      "(57, 114264)\n",
      "../data_processing/derivatives/subj4_ses20.npy\n",
      "(89, 114264)\n",
      "../data_processing/derivatives/subj3_ses8.npy\n",
      "(64, 114264)\n",
      "../data_processing/derivatives/subj4_ses18.npy\n",
      "(88, 114264)\n",
      "../data_processing/derivatives/subj1_ses7.npy\n",
      "(67, 114264)\n",
      "../data_processing/derivatives/subj3_ses4.npy\n",
      "(82, 114264)\n",
      "../data_processing/derivatives/subj7_ses1.npy\n",
      "(62, 114264)\n",
      "../data_processing/derivatives/subj7_ses4.npy\n",
      "(82, 114264)\n",
      "../data_processing/derivatives/subj3_ses15.npy\n",
      "(87, 114264)\n",
      "../data_processing/derivatives/subj2_ses10.npy\n",
      "(71, 114264)\n",
      "../data_processing/derivatives/subj5_ses4.npy\n",
      "(82, 114264)\n",
      "../data_processing/derivatives/subj4_ses13.npy\n",
      "(60, 114264)\n",
      "../data_processing/derivatives/subj1_ses5.npy\n",
      "(57, 114264)\n",
      "../data_processing/derivatives/subj5_ses20.npy\n",
      "(89, 114264)\n",
      "../data_processing/derivatives/subj3_ses1.npy\n",
      "(62, 114264)\n",
      "../data_processing/derivatives/subj4_ses12.npy\n",
      "(81, 114264)\n",
      "../data_processing/derivatives/subj1_ses3.npy\n",
      "(59, 114264)\n",
      "../data_processing/derivatives/subj5_ses5.npy\n",
      "(57, 114264)\n",
      "../data_processing/derivatives/subj3_ses7.npy\n",
      "(67, 114264)\n",
      "../data_processing/derivatives/subj2_ses6.npy\n",
      "(87, 114264)\n",
      "../data_processing/derivatives/subj2_ses2.npy\n",
      "(80, 114264)\n",
      "../data_processing/derivatives/subj2_ses17.npy\n",
      "(69, 114264)\n",
      "../data_processing/derivatives/subj5_ses8.npy\n",
      "(64, 114264)\n",
      "../data_processing/derivatives/subj4_ses7.npy\n",
      "(67, 114264)\n",
      "../data_processing/derivatives/subj1_ses18.npy\n",
      "(88, 114264)\n",
      "../data_processing/derivatives/subj1_ses13.npy\n",
      "(60, 114264)\n",
      "../data_processing/derivatives/subj5_ses12.npy\n",
      "(81, 114264)\n",
      "../data_processing/derivatives/subj3_ses11.npy\n",
      "(83, 114264)\n",
      "../data_processing/derivatives/subj1_ses8.npy\n",
      "(64, 114264)\n",
      "../data_processing/derivatives/subj2_ses18.npy\n",
      "(88, 114264)\n",
      "../data_processing/derivatives/subj5_ses16.npy\n",
      "(83, 114264)\n",
      "../data_processing/derivatives/subj4_ses4.npy\n",
      "(82, 114264)\n",
      "../data_processing/derivatives/subj2_ses16.npy\n",
      "(83, 114264)\n",
      "../data_processing/derivatives/subj4_ses15.npy\n",
      "(87, 114264)\n"
     ]
    }
   ],
   "source": [
    "#Load the data.\n",
    "files = [f for f in os.listdir('../data_processing/derivatives/')]\n",
    "# random.shuffle(files)\n",
    "np_data_1 = np.load('../data_processing/derivatives/' + files[0])\n",
    "for f in files[1:50]:\n",
    "    # print('../data_processing/derivatives/' + f)\n",
    "    np_data = np.load('../data_processing/derivatives/' + f)\n",
    "    # print(np_data.shape)\n",
    "    np_data_1 = np.concatenate((np_data_1, np_data))"
   ]
  },
  {
   "cell_type": "code",
   "execution_count": 22,
   "id": "9f1a8ed4-ca86-4c8b-9dae-307fb808a346",
   "metadata": {},
   "outputs": [
    {
     "data": {
      "text/plain": [
       "(3701, 114264)"
      ]
     },
     "execution_count": 22,
     "metadata": {},
     "output_type": "execute_result"
    }
   ],
   "source": [
    "np_data_1.shape"
   ]
  },
  {
   "cell_type": "code",
   "execution_count": 4,
   "id": "ec7308e2-69c4-4add-93fe-6145be6ea215",
   "metadata": {},
   "outputs": [],
   "source": [
    "df = pd.DataFrame(data = np_data,\n",
    "                  index=[x for x in range(np_data.shape[0])],\n",
    "                  columns=[x for x in range(np_data.shape[1])])"
   ]
  },
  {
   "cell_type": "code",
   "execution_count": 5,
   "id": "717ab669-f197-4bca-b02c-b654c281daa2",
   "metadata": {},
   "outputs": [],
   "source": [
    "target_df = pd.read_csv('../annotation_data/sample_input_output.csv')[['trial_in_session', \n",
    "                                                                     'final_socnonsoc']]"
   ]
  },
  {
   "cell_type": "code",
   "execution_count": 6,
   "id": "9042008a-48cb-42cd-8845-7cad3088d846",
   "metadata": {},
   "outputs": [],
   "source": [
    "targets = target_df['final_socnonsoc']"
   ]
  },
  {
   "cell_type": "code",
   "execution_count": null,
   "id": "991cb4ac-7cc9-47b3-911f-a6c115643b0c",
   "metadata": {},
   "outputs": [],
   "source": [
    "print(type(df.columns))"
   ]
  },
  {
   "cell_type": "markdown",
   "id": "005539e2-176d-4ff6-b05f-3dff0b3b6184",
   "metadata": {},
   "source": [
    "## PCA"
   ]
  },
  {
   "cell_type": "code",
   "execution_count": null,
   "id": "22ecffed-3748-41f7-b4bf-b69eca7b61cd",
   "metadata": {},
   "outputs": [],
   "source": [
    "#Scale the data.  \n",
    "# scaler = MinMaxScaler()\n",
    "# df.columns.reshape(1, -1)\n",
    "# feature_scaled = scaler.fit_transform(df.columns)\n",
    "\n",
    "# #Apply PCA\n",
    "# pca = PCA(n_components=3)\n",
    "# pca.fit(feature_scaled)\n",
    "# feature_scaled_pca = pca.transform(feature_scaled)\n",
    "# np.shape(feature_scaled_pca)"
   ]
  },
  {
   "cell_type": "code",
   "execution_count": null,
   "id": "bed9aab3-cd13-4e34-80f2-f99499943c89",
   "metadata": {},
   "outputs": [],
   "source": [
    "# feat_var = np.var(feature_scaled_pca, axis=0)\n",
    "# feat_var_rat = feat_var/(np.sum(feat_var))\n",
    "\n",
    "# print (\"Variance Ratio of the 4 Principal Components Ananlysis: \", feat_var_rat)"
   ]
  },
  {
   "cell_type": "code",
   "execution_count": null,
   "id": "0d3252d8-9f23-4893-8ed6-e0e98f534e20",
   "metadata": {},
   "outputs": [],
   "source": [
    "# target_list = df.final_socnonsoc.tolist()\n",
    "\n",
    "# feature_scaled_pca_X0 = feature_scaled_pca[:, 0]\n",
    "# feature_scaled_pca_X1 = feature_scaled_pca[:, 1]\n",
    "# feature_scaled_pca_X2 = feature_scaled_pca[:, 2]\n",
    "\n",
    "# labels = target_list\n",
    "# colordict = {0:'red', 1:'blue'}\n",
    "# piclabel = {0:'Non-Social', 1:'Social'}\n",
    "# markers = {0:'o', 1:'-'}\n",
    "# alphas = {0:0.3, 1:0.4}\n",
    "\n",
    "# fig = plt.figure(figsize=(12, 7))\n",
    "# plt.subplot(1,2,1)\n",
    "# for l in np.unique(labels):\n",
    "#     ix = np.where(labels==l)\n",
    "#     plt.scatter(feature_scaled_pca_X0[ix], feature_scaled_pca_X1[ix], c=colordict[l], \n",
    "#                label=piclabel[l], s=40, marker=markers[l], alpha=alphas[l])\n",
    "# plt.xlabel(\"First Principal Component\", fontsize=15)\n",
    "# plt.ylabel(\"Second Principal Component\", fontsize=15)\n",
    "\n",
    "# plt.legend(fontsize=15)\n",
    "\n",
    "# plt.subplot(1,2,2)\n",
    "# for l1 in np.unique(labels):\n",
    "#     ix1 = np.where(labels==l1)\n",
    "#     plt.scatter(feature_scaled_pca_X0[ix1], feature_scaled_pca_X2[ix1], c=colordict[l1], \n",
    "#                label=piclabel[l1], s=40, marker=markers[l1], alpha=alphas[l1])\n",
    "# plt.xlabel(\"First Principal Component\", fontsize=15)\n",
    "# plt.ylabel(\"Third Principal Component\", fontsize=15)\n",
    "\n",
    "# plt.subplot(2,2,2)\n",
    "# for l1 in np.unique(labels):\n",
    "#     ix1 = np.where(labels==l1)\n",
    "#     plt.scatter(feature_scaled_pca_X1[ix1], feature_scaled_pca_X2[ix1], c=colordict[l1], \n",
    "#                label=piclabel[l1], s=40, marker=markers[l1], alpha=alphas[l1])\n",
    "# plt.xlabel(\"Second Principal Component\", fontsize=15)\n",
    "# plt.ylabel(\"Third Principal Component\", fontsize=15)\n",
    "\n",
    "# plt.legend(fontsize=15)\n",
    "\n",
    "# # plt.savefig('Cancer_labels_PCAs.png', dpi=200)\n",
    "# plt.show()"
   ]
  },
  {
   "cell_type": "markdown",
   "id": "e891c4b2-649f-436e-b462-569356592324",
   "metadata": {},
   "source": [
    "## SVM"
   ]
  },
  {
   "cell_type": "code",
   "execution_count": 7,
   "id": "e1a43e1c-c7b4-4b91-9353-be5ce0fda3dd",
   "metadata": {},
   "outputs": [],
   "source": [
    "#Define the categories.\n",
    "df['categories'] = targets\n",
    "df['final_socnonsoc'] = target_df['final_socnonsoc']"
   ]
  },
  {
   "cell_type": "code",
   "execution_count": null,
   "id": "431aa58d-e0c0-44de-b330-bfb1bf561217",
   "metadata": {},
   "outputs": [],
   "source": [
    "# 7221032"
   ]
  },
  {
   "cell_type": "code",
   "execution_count": 23,
   "id": "d3d60635-5c62-4d7f-b0f7-0924a94d1cf5",
   "metadata": {},
   "outputs": [],
   "source": [
    "#Create X and y to hold input and output/target arrays.\n",
    "\n",
    "#may need to resize X or change this, depending on form data actually comes in\n",
    "X = np_data_1\n",
    "y = df['final_socnonsoc'].to_numpy()"
   ]
  },
  {
   "cell_type": "code",
   "execution_count": null,
   "id": "7d0480f7-236e-4cfb-89f4-201586763cee",
   "metadata": {},
   "outputs": [],
   "source": [
    "#Create violin plot for social vs. nonsocial and beta value.\n",
    "# violin_plot = sns.violinplot(x=y, y=X, data=df)"
   ]
  },
  {
   "cell_type": "code",
   "execution_count": null,
   "id": "adce6369-cc64-4295-ba83-9dff7b817135",
   "metadata": {},
   "outputs": [],
   "source": [
    "#Visualize the model's performance.\n",
    "# plt.scatter(x.iloc[:, 0], x.iloc[:, 1], c=y, s=50, cmap='autumn')\n",
    "# plt.scatter(model.support_vectors_[:,0],model.support_vectors_[:,1])"
   ]
  },
  {
   "cell_type": "code",
   "execution_count": null,
   "id": "561a2d92-b55c-4c15-8329-85880b968732",
   "metadata": {},
   "outputs": [],
   "source": []
  },
  {
   "cell_type": "code",
   "execution_count": null,
   "id": "f6af3080-f184-483c-9b7f-8ace8c9a69ea",
   "metadata": {},
   "outputs": [],
   "source": []
  },
  {
   "cell_type": "code",
   "execution_count": 24,
   "id": "bf2d99fa-7647-4b0d-bfc7-01af455611cf",
   "metadata": {},
   "outputs": [
    {
     "ename": "ValueError",
     "evalue": "Found input variables with inconsistent numbers of samples: [3701, 87]",
     "output_type": "error",
     "traceback": [
      "\u001b[0;31m---------------------------------------------------------------------------\u001b[0m",
      "\u001b[0;31mValueError\u001b[0m                                Traceback (most recent call last)",
      "\u001b[0;32m/tmp/ipykernel_840/3809462308.py\u001b[0m in \u001b[0;36m<module>\u001b[0;34m\u001b[0m\n\u001b[1;32m      4\u001b[0m                                                     \u001b[0mtest_size\u001b[0m\u001b[0;34m=\u001b[0m\u001b[0;36m0.20\u001b[0m\u001b[0;34m,\u001b[0m\u001b[0;34m\u001b[0m\u001b[0;34m\u001b[0m\u001b[0m\n\u001b[1;32m      5\u001b[0m                                                     \u001b[0mrandom_state\u001b[0m\u001b[0;34m=\u001b[0m\u001b[0;36m42\u001b[0m\u001b[0;34m,\u001b[0m\u001b[0;34m\u001b[0m\u001b[0;34m\u001b[0m\u001b[0m\n\u001b[0;32m----> 6\u001b[0;31m                                                     stratify=y)\n\u001b[0m",
      "\u001b[0;32m/srv/conda/envs/notebook/lib/python3.7/site-packages/sklearn/model_selection/_split.py\u001b[0m in \u001b[0;36mtrain_test_split\u001b[0;34m(test_size, train_size, random_state, shuffle, stratify, *arrays)\u001b[0m\n\u001b[1;32m   2415\u001b[0m         \u001b[0;32mraise\u001b[0m \u001b[0mValueError\u001b[0m\u001b[0;34m(\u001b[0m\u001b[0;34m\"At least one array required as input\"\u001b[0m\u001b[0;34m)\u001b[0m\u001b[0;34m\u001b[0m\u001b[0;34m\u001b[0m\u001b[0m\n\u001b[1;32m   2416\u001b[0m \u001b[0;34m\u001b[0m\u001b[0m\n\u001b[0;32m-> 2417\u001b[0;31m     \u001b[0marrays\u001b[0m \u001b[0;34m=\u001b[0m \u001b[0mindexable\u001b[0m\u001b[0;34m(\u001b[0m\u001b[0;34m*\u001b[0m\u001b[0marrays\u001b[0m\u001b[0;34m)\u001b[0m\u001b[0;34m\u001b[0m\u001b[0;34m\u001b[0m\u001b[0m\n\u001b[0m\u001b[1;32m   2418\u001b[0m \u001b[0;34m\u001b[0m\u001b[0m\n\u001b[1;32m   2419\u001b[0m     \u001b[0mn_samples\u001b[0m \u001b[0;34m=\u001b[0m \u001b[0m_num_samples\u001b[0m\u001b[0;34m(\u001b[0m\u001b[0marrays\u001b[0m\u001b[0;34m[\u001b[0m\u001b[0;36m0\u001b[0m\u001b[0;34m]\u001b[0m\u001b[0;34m)\u001b[0m\u001b[0;34m\u001b[0m\u001b[0;34m\u001b[0m\u001b[0m\n",
      "\u001b[0;32m/srv/conda/envs/notebook/lib/python3.7/site-packages/sklearn/utils/validation.py\u001b[0m in \u001b[0;36mindexable\u001b[0;34m(*iterables)\u001b[0m\n\u001b[1;32m    376\u001b[0m \u001b[0;34m\u001b[0m\u001b[0m\n\u001b[1;32m    377\u001b[0m     \u001b[0mresult\u001b[0m \u001b[0;34m=\u001b[0m \u001b[0;34m[\u001b[0m\u001b[0m_make_indexable\u001b[0m\u001b[0;34m(\u001b[0m\u001b[0mX\u001b[0m\u001b[0;34m)\u001b[0m \u001b[0;32mfor\u001b[0m \u001b[0mX\u001b[0m \u001b[0;32min\u001b[0m \u001b[0miterables\u001b[0m\u001b[0;34m]\u001b[0m\u001b[0;34m\u001b[0m\u001b[0;34m\u001b[0m\u001b[0m\n\u001b[0;32m--> 378\u001b[0;31m     \u001b[0mcheck_consistent_length\u001b[0m\u001b[0;34m(\u001b[0m\u001b[0;34m*\u001b[0m\u001b[0mresult\u001b[0m\u001b[0;34m)\u001b[0m\u001b[0;34m\u001b[0m\u001b[0;34m\u001b[0m\u001b[0m\n\u001b[0m\u001b[1;32m    379\u001b[0m     \u001b[0;32mreturn\u001b[0m \u001b[0mresult\u001b[0m\u001b[0;34m\u001b[0m\u001b[0;34m\u001b[0m\u001b[0m\n\u001b[1;32m    380\u001b[0m \u001b[0;34m\u001b[0m\u001b[0m\n",
      "\u001b[0;32m/srv/conda/envs/notebook/lib/python3.7/site-packages/sklearn/utils/validation.py\u001b[0m in \u001b[0;36mcheck_consistent_length\u001b[0;34m(*arrays)\u001b[0m\n\u001b[1;32m    332\u001b[0m         raise ValueError(\n\u001b[1;32m    333\u001b[0m             \u001b[0;34m\"Found input variables with inconsistent numbers of samples: %r\"\u001b[0m\u001b[0;34m\u001b[0m\u001b[0;34m\u001b[0m\u001b[0m\n\u001b[0;32m--> 334\u001b[0;31m             \u001b[0;34m%\u001b[0m \u001b[0;34m[\u001b[0m\u001b[0mint\u001b[0m\u001b[0;34m(\u001b[0m\u001b[0ml\u001b[0m\u001b[0;34m)\u001b[0m \u001b[0;32mfor\u001b[0m \u001b[0ml\u001b[0m \u001b[0;32min\u001b[0m \u001b[0mlengths\u001b[0m\u001b[0;34m]\u001b[0m\u001b[0;34m\u001b[0m\u001b[0;34m\u001b[0m\u001b[0m\n\u001b[0m\u001b[1;32m    335\u001b[0m         )\n\u001b[1;32m    336\u001b[0m \u001b[0;34m\u001b[0m\u001b[0m\n",
      "\u001b[0;31mValueError\u001b[0m: Found input variables with inconsistent numbers of samples: [3701, 87]"
     ]
    }
   ],
   "source": [
    "#Split data into train and test.\n",
    "x_train, x_test, y_train, y_test = train_test_split(X,\n",
    "                                                    y,\n",
    "                                                    test_size=0.20,\n",
    "                                                    random_state=42,\n",
    "                                                    stratify=y)"
   ]
  },
  {
   "cell_type": "code",
   "execution_count": 17,
   "id": "5e76cf00-47d3-4498-9745-7beceb3b0b81",
   "metadata": {},
   "outputs": [],
   "source": [
    "#Create grid search.\n",
    "param_grid = {'C' : [0.1, 1, 10, 100],\n",
    "              'gamma' : [0.0001, 0.001, 0.1, 1],\n",
    "              'kernel' : ['linear']}#, 'rbf', 'poly']}\n",
    "\n",
    "svc = svm.SVC(probability=True)\n",
    "model = GridSearchCV(svc,\n",
    "                     param_grid)"
   ]
  },
  {
   "cell_type": "code",
   "execution_count": 18,
   "id": "2cd14438-e2ec-4df9-98e9-5d023c21ed77",
   "metadata": {},
   "outputs": [
    {
     "name": "stdout",
     "output_type": "stream",
     "text": [
      "{'C': 0.1, 'gamma': 0.0001, 'kernel': 'linear'}\n"
     ]
    }
   ],
   "source": [
    "#Fit the model to the training data.\n",
    "model.fit(x_train,y_train)\n",
    "\n",
    "#Save to pickle file.\n",
    "# save the model to disk\n",
    "filename = 'finalized_model.sav'\n",
    "pickle.dump(model, open(filename, 'wb'))\n",
    "\n",
    "#Show the best parameters.\n",
    "print(model.best_params_)"
   ]
  },
  {
   "cell_type": "code",
   "execution_count": 19,
   "id": "dcb9b28b-eb36-4243-93f1-6822d70aa3cd",
   "metadata": {},
   "outputs": [
    {
     "name": "stdout",
     "output_type": "stream",
     "text": [
      "The model is 55.55555555555556% accurate\n"
     ]
    }
   ],
   "source": [
    "#Make predictions with the model on the testing set.\n",
    "y_pred = model.predict(x_test)\n",
    "acc_score = accuracy_score(y_pred,y_test)*100\n",
    "print(f\"The model is {acc_score}% accurate\")"
   ]
  },
  {
   "cell_type": "code",
   "execution_count": 20,
   "id": "851dac53-2b1f-40ca-9154-f0d8675f8f65",
   "metadata": {},
   "outputs": [
    {
     "data": {
      "text/plain": [
       "array([[7, 4],\n",
       "       [4, 3]])"
      ]
     },
     "execution_count": 20,
     "metadata": {},
     "output_type": "execute_result"
    }
   ],
   "source": [
    "#Confusion Matrix\n",
    "y_true = y_test\n",
    "confusion_matrix(y_true, y_pred)"
   ]
  },
  {
   "cell_type": "code",
   "execution_count": 21,
   "id": "f1cca70c-666f-485c-8689-09c3825d8006",
   "metadata": {},
   "outputs": [
    {
     "name": "stderr",
     "output_type": "stream",
     "text": [
      "/srv/conda/envs/notebook/lib/python3.7/site-packages/sklearn/utils/deprecation.py:87: FutureWarning: Function plot_confusion_matrix is deprecated; Function `plot_confusion_matrix` is deprecated in 1.0 and will be removed in 1.2. Use one of the class methods: ConfusionMatrixDisplay.from_predictions or ConfusionMatrixDisplay.from_estimator.\n",
      "  warnings.warn(msg, category=FutureWarning)\n"
     ]
    },
    {
     "data": {
      "image/png": "[encoded data removed]",
      "text/plain": [
       "<Figure size 432x288 with 2 Axes>"
      ]
     },
     "metadata": {},
     "output_type": "display_data"
    }
   ],
   "source": [
    "plot_confusion_matrix(model, x_test, y_test)  \n",
    "plt.show()"
   ]
  },
  {
   "cell_type": "code",
   "execution_count": null,
   "id": "99fae358-c0c1-4d51-a72b-90a863975717",
   "metadata": {},
   "outputs": [],
   "source": []
  }
 ],
 "metadata": {
  "kernelspec": {
   "display_name": "Python 3 (ipykernel)",
   "language": "python",
   "name": "python3"
  },
  "language_info": {
   "codemirror_mode": {
    "name": "ipython",
    "version": 3
   },
   "file_extension": ".py",
   "mimetype": "text/x-python",
   "name": "python",
   "nbconvert_exporter": "python",
   "pygments_lexer": "ipython3",
   "version": "3.7.12"
  }
 },
 "nbformat": 4,
 "nbformat_minor": 5
}
