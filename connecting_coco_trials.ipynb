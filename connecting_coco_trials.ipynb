{
 "cells": [
  {
   "cell_type": "code",
   "execution_count": 9,
   "id": "ed86cc52-7e99-41cc-bbcc-890620092e4b",
   "metadata": {},
   "outputs": [],
   "source": [
    "import pandas as pd"
   ]
  },
  {
   "cell_type": "code",
   "execution_count": 10,
   "id": "d497c48b-d6b9-439b-85fa-3ddf93353fff",
   "metadata": {},
   "outputs": [],
   "source": [
    "# pd.set_option('display.max_columns', None)\n",
    "# pd.set_option('display.max_rows', None)"
   ]
  },
  {
   "cell_type": "code",
   "execution_count": 11,
   "id": "c1fe3d49-5e7c-4138-bbba-8167d7e027e1",
   "metadata": {},
   "outputs": [],
   "source": [
    "annotation_df = pd.read_csv('./annotation_data/coco_annotations_socnosoc.csv')"
   ]
  },
  {
   "cell_type": "code",
   "execution_count": 12,
   "id": "fa361380-ce0a-4a5c-9adf-acdfdc8e8bff",
   "metadata": {},
   "outputs": [],
   "source": [
    "nsd_stim_df = pd.read_csv('nsd_stim_info_merged.csv')"
   ]
  },
  {
   "cell_type": "code",
   "execution_count": 13,
   "id": "e36d225b-e1e4-43be-b3a5-a5eabf5e7d8c",
   "metadata": {},
   "outputs": [],
   "source": [
    "#Will need to add in all participant files here:\n",
    "behavioral_info_df = pd.read_csv('../../shared/NSD/nsddata/ppdata/subj01/behav/responses.tsv', sep='\\t')"
   ]
  },
  {
   "cell_type": "code",
   "execution_count": 14,
   "id": "4a66ce5e-d3a0-4228-a123-0d1a3d49f05c",
   "metadata": {},
   "outputs": [],
   "source": [
    "behavioral_info_df['73KID_0idx'] = behavioral_info_df['73KID'] - 1"
   ]
  },
  {
   "cell_type": "code",
   "execution_count": 15,
   "id": "0970d4d8-253e-41bb-8233-e2bf717c7813",
   "metadata": {},
   "outputs": [],
   "source": [
    "nsd_ann_total = nsd_stim_df.merge(annotation_df, how='left', left_on='cocoId', right_on='id')\n",
    "nsd_ann_total.drop('id', axis=1, inplace=True)"
   ]
  },
  {
   "cell_type": "code",
   "execution_count": 16,
   "id": "05d6a0ab-3896-47fa-823c-0c86f5528ecf",
   "metadata": {},
   "outputs": [],
   "source": [
    "behav_ann_comb_df = behavioral_info_df.merge(nsd_ann_total, \n",
    "                    how='left', \n",
    "                    left_on='73KID_0idx',\n",
    "                    right_on='nsdId')[['SUBJECT', 'SESSION', 'RUN', 'TRIAL',\n",
    "                                       'cocoId', 'nsdId', 'flagged', 'BOLD5000', \n",
    "                                       'shared1000', 'file_name', 'coco_url', \n",
    "                                       'people_coco', 'people', 'faces',  '73KID', \n",
    "                                       '10KID', 'TIME', 'ISOLD', 'ISCORRECT', 'RT', \n",
    "                                       'CHANGEMIND', 'MEMORYRECENT', 'MEMORYFIRST',\n",
    "                                       'ISOLDCURRENT', 'ISCORRECTCURRENT', 'TOTAL1', \n",
    "                                       'TOTAL2', 'BUTTON', 'MISSINGDATA', '73KID_0idx']]"
   ]
  },
  {
   "cell_type": "code",
   "execution_count": null,
   "id": "2e2497f6-dd68-4be2-aeb7-3fec1992e30a",
   "metadata": {},
   "outputs": [],
   "source": []
  }
 ],
 "metadata": {
  "kernelspec": {
   "display_name": "Python 3 (ipykernel)",
   "language": "python",
   "name": "python3"
  },
  "language_info": {
   "codemirror_mode": {
    "name": "ipython",
    "version": 3
   },
   "file_extension": ".py",
   "mimetype": "text/x-python",
   "name": "python",
   "nbconvert_exporter": "python",
   "pygments_lexer": "ipython3",
   "version": "3.7.12"
  }
 },
 "nbformat": 4,
 "nbformat_minor": 5
}
