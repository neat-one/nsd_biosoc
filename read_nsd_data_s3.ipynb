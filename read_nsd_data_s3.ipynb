{
 "cells": [
  {
   "cell_type": "code",
   "execution_count": 15,
   "id": "cc71ccfc-59e7-439c-935e-addf79c8806a",
   "metadata": {},
   "outputs": [],
   "source": [
    "import s3fs\n",
    "import nibabel as nib"
   ]
  },
  {
   "cell_type": "code",
   "execution_count": 2,
   "id": "09fc93d0-9ec5-4cd0-94a9-23ece4ff77bc",
   "metadata": {},
   "outputs": [],
   "source": [
    "fs = s3fs.S3FileSystem(anon=True)"
   ]
  },
  {
   "cell_type": "code",
   "execution_count": 3,
   "id": "dc0c2095-7b15-4f0d-bcd6-a4f0f1a824a8",
   "metadata": {},
   "outputs": [
    {
     "data": {
      "text/plain": [
       "['natural-scenes-dataset/index.html',\n",
       " 'natural-scenes-dataset/nsddata',\n",
       " 'natural-scenes-dataset/nsddata_betas',\n",
       " 'natural-scenes-dataset/nsddata_diffusion',\n",
       " 'natural-scenes-dataset/nsddata_other',\n",
       " 'natural-scenes-dataset/nsddata_rawdata',\n",
       " 'natural-scenes-dataset/nsddata_stimuli',\n",
       " 'natural-scenes-dataset/nsddata_timeseries']"
      ]
     },
     "execution_count": 3,
     "metadata": {},
     "output_type": "execute_result"
    }
   ],
   "source": [
    "fs.ls(\"natural-scenes-dataset\")"
   ]
  },
  {
   "cell_type": "code",
   "execution_count": 4,
   "id": "71416860-1239-4fe3-95c0-a61781336b2e",
   "metadata": {},
   "outputs": [
    {
     "data": {
      "text/plain": [
       "['natural-scenes-dataset/nsddata_betas/ppdata']"
      ]
     },
     "execution_count": 4,
     "metadata": {},
     "output_type": "execute_result"
    }
   ],
   "source": [
    " fs.ls(\"natural-scenes-dataset/nsddata_betas/\")"
   ]
  },
  {
   "cell_type": "code",
   "execution_count": 5,
   "id": "baceb870-b98f-40bc-bdcc-3c3fda19b023",
   "metadata": {},
   "outputs": [
    {
     "data": {
      "text/plain": [
       "['natural-scenes-dataset/nsddata_betas/ppdata/subj01',\n",
       " 'natural-scenes-dataset/nsddata_betas/ppdata/subj02',\n",
       " 'natural-scenes-dataset/nsddata_betas/ppdata/subj03',\n",
       " 'natural-scenes-dataset/nsddata_betas/ppdata/subj04',\n",
       " 'natural-scenes-dataset/nsddata_betas/ppdata/subj05',\n",
       " 'natural-scenes-dataset/nsddata_betas/ppdata/subj06',\n",
       " 'natural-scenes-dataset/nsddata_betas/ppdata/subj07',\n",
       " 'natural-scenes-dataset/nsddata_betas/ppdata/subj08']"
      ]
     },
     "execution_count": 5,
     "metadata": {},
     "output_type": "execute_result"
    }
   ],
   "source": [
    "fs.ls('natural-scenes-dataset/nsddata_betas/ppdata')"
   ]
  },
  {
   "cell_type": "code",
   "execution_count": 6,
   "id": "77322b92-ee2e-4360-b861-7ef6f59496d7",
   "metadata": {},
   "outputs": [
    {
     "data": {
      "text/plain": [
       "['natural-scenes-dataset/nsddata_betas/ppdata/subj01/MNI',\n",
       " 'natural-scenes-dataset/nsddata_betas/ppdata/subj01/fsaverage',\n",
       " 'natural-scenes-dataset/nsddata_betas/ppdata/subj01/func1mm',\n",
       " 'natural-scenes-dataset/nsddata_betas/ppdata/subj01/func1pt8mm',\n",
       " 'natural-scenes-dataset/nsddata_betas/ppdata/subj01/nativesurface']"
      ]
     },
     "execution_count": 6,
     "metadata": {},
     "output_type": "execute_result"
    }
   ],
   "source": [
    "fs.ls('natural-scenes-dataset/nsddata_betas/ppdata/subj01/')"
   ]
  },
  {
   "cell_type": "code",
   "execution_count": 7,
   "id": "d67a904f-fc2b-4e32-91bd-4c49930efafc",
   "metadata": {},
   "outputs": [
    {
     "data": {
      "text/plain": [
       "['natural-scenes-dataset/nsddata_betas/ppdata/subj01/func1pt8mm/betas_assumehrf',\n",
       " 'natural-scenes-dataset/nsddata_betas/ppdata/subj01/func1pt8mm/betas_fithrf',\n",
       " 'natural-scenes-dataset/nsddata_betas/ppdata/subj01/func1pt8mm/betas_fithrf_GLMdenoise_RR',\n",
       " 'natural-scenes-dataset/nsddata_betas/ppdata/subj01/func1pt8mm/nsdimagerybetas_fithrf',\n",
       " 'natural-scenes-dataset/nsddata_betas/ppdata/subj01/func1pt8mm/nsdsyntheticbetas_fithrf',\n",
       " 'natural-scenes-dataset/nsddata_betas/ppdata/subj01/func1pt8mm/nsdsyntheticbetas_fithrf_GLMdenoise_RR',\n",
       " 'natural-scenes-dataset/nsddata_betas/ppdata/subj01/func1pt8mm/restingbetas_fithrf']"
      ]
     },
     "execution_count": 7,
     "metadata": {},
     "output_type": "execute_result"
    }
   ],
   "source": [
    "fs.ls('natural-scenes-dataset/nsddata_betas/ppdata/subj01/func1pt8mm')"
   ]
  },
  {
   "cell_type": "code",
   "execution_count": 12,
   "id": "73e6ebcd-ca0b-423e-8130-8b4429ee0ec6",
   "metadata": {},
   "outputs": [],
   "source": [
    "ll = fs.ls('natural-scenes-dataset/nsddata_betas/ppdata/subj01/func1pt8mm/betas_fithrf_GLMdenoise_RR/betas_session01.nii.gz')"
   ]
  },
  {
   "cell_type": "code",
   "execution_count": 13,
   "id": "d600948c-dec1-40aa-b5b9-84221e207efa",
   "metadata": {},
   "outputs": [
    {
     "data": {
      "text/plain": [
       "'natural-scenes-dataset/nsddata_betas/ppdata/subj01/func1pt8mm/betas_fithrf_GLMdenoise_RR/betas_session01.nii.gz'"
      ]
     },
     "execution_count": 13,
     "metadata": {},
     "output_type": "execute_result"
    }
   ],
   "source": [
    "ll[0]"
   ]
  },
  {
   "cell_type": "code",
   "execution_count": 23,
   "id": "cf7629d0-9097-4d2a-98a2-a547a6a35826",
   "metadata": {},
   "outputs": [
    {
     "name": "stdout",
     "output_type": "stream",
     "text": [
      "<class 'nibabel.nifti1.Nifti1Header'> object, endian='<'\n",
      "sizeof_hdr      : 348\n",
      "data_type       : b''\n",
      "db_name         : b''\n",
      "extents         : 0\n",
      "session_error   : 0\n",
      "regular         : b'r'\n",
      "dim_info        : 0\n",
      "dim             : [  4  81 104  83 750   1   1   1]\n",
      "intent_p1       : 0.0\n",
      "intent_p2       : 0.0\n",
      "intent_p3       : 0.0\n",
      "intent_code     : none\n",
      "datatype        : int16\n",
      "bitpix          : 16\n",
      "slice_start     : 0\n",
      "pixdim          : [1.        1.8       1.8       1.8       1.3333334 1.        1.\n",
      " 1.       ]\n",
      "vox_offset      : 0.0\n",
      "scl_slope       : nan\n",
      "scl_inter       : nan\n",
      "slice_end       : 0\n",
      "slice_code      : unknown\n",
      "xyzt_units      : 0\n",
      "cal_max         : 0.0\n",
      "cal_min         : 0.0\n",
      "slice_duration  : 0.0\n",
      "toffset         : 0.0\n",
      "glmax           : 32767\n",
      "glmin           : -32768\n",
      "descrip         : b''\n",
      "aux_file        : b'none'\n",
      "qform_code      : unknown\n",
      "sform_code      : scanner\n",
      "quatern_b       : 0.0\n",
      "quatern_c       : 0.0\n",
      "quatern_d       : 0.0\n",
      "qoffset_x       : 0.0\n",
      "qoffset_y       : 0.0\n",
      "qoffset_z       : 0.0\n",
      "srow_x          : [  1.8   0.    0.  -72. ]\n",
      "srow_y          : [  0.    1.8   0.  -92.7]\n",
      "srow_z          : [  0.    0.    1.8 -73.8]\n",
      "intent_name     : b''\n",
      "magic           : b'n+1'\n"
     ]
    }
   ],
   "source": [
    "results = []\n",
    "#for fname in ll: \n",
    "    #fs.get(fname, \"tmp.nii.gz\")\n",
    "    #img = nib.load(\"tmp.nii.gz\")\n",
    "\n",
    "    # XXX do something with one file\n",
    "fs.get(fname, \"tmp.nii.gz\")\n",
    "img = nib.load(\"tmp.nii.gz\")\n",
    "header = img.header\n",
    "print(header)\n",
    "    # Append into total results:\n",
    "    # results.append(XXX)"
   ]
  },
  {
   "cell_type": "code",
   "execution_count": 17,
   "id": "eb41812b-cc7b-48f9-a005-cae5157552b3",
   "metadata": {},
   "outputs": [
    {
     "name": "stdout",
     "output_type": "stream",
     "text": [
      "\u001b[0m\u001b[01;34mmy-analysis\u001b[0m/        \u001b[01;34mnsd-biosoc\u001b[0m/  read_nsd_data_s3.ipynb  tmp.nii.gz\n",
      "\u001b[01;34mnh2022-curriculum\u001b[0m/  \u001b[01;34mplanets\u001b[0m/     \u001b[01;34mshared\u001b[0m/\n"
     ]
    }
   ],
   "source": [
    "ls"
   ]
  }
 ],
 "metadata": {
  "kernelspec": {
   "display_name": "Python 3 (ipykernel)",
   "language": "python",
   "name": "python3"
  },
  "language_info": {
   "codemirror_mode": {
    "name": "ipython",
    "version": 3
   },
   "file_extension": ".py",
   "mimetype": "text/x-python",
   "name": "python",
   "nbconvert_exporter": "python",
   "pygments_lexer": "ipython3",
   "version": "3.7.12"
  }
 },
 "nbformat": 4,
 "nbformat_minor": 5
}
